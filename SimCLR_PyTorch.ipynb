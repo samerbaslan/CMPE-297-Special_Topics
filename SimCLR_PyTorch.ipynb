{
  "nbformat": 4,
  "nbformat_minor": 0,
  "metadata": {
    "colab": {
      "name": "SimCLR_PyTorch.ipynb",
      "provenance": []
    },
    "kernelspec": {
      "name": "python3",
      "display_name": "Python 3"
    },
    "language_info": {
      "name": "python"
    },
    "accelerator": "GPU"
  },
  "cells": [
    {
      "cell_type": "markdown",
      "metadata": {
        "id": "O3k6jx6Y4htd"
      },
      "source": [
        "#Samer Baslan\n",
        "#CMPE-297 Assignment 1 Part (a)\n",
        "#SimCLR PyTorch implementation\n",
        "\n",
        "Resource: https://github.com/thunderInfy/simclr"
      ]
    },
    {
      "cell_type": "markdown",
      "metadata": {
        "id": "zR5pBcXB4U9D"
      },
      "source": [
        "##Download Data"
      ]
    },
    {
      "cell_type": "code",
      "metadata": {
        "colab": {
          "base_uri": "https://localhost:8080/"
        },
        "id": "bOiwWj-2klIY",
        "outputId": "69661f37-f37d-4a6f-e13d-d2b182483825"
      },
      "source": [
        "!rm -rf imagenet-5-categories\n",
        "!git clone https://github.com/thunderInfy/imagenet-5-categories"
      ],
      "execution_count": 1,
      "outputs": [
        {
          "output_type": "stream",
          "name": "stdout",
          "text": [
            "Cloning into 'imagenet-5-categories'...\n",
            "remote: Enumerating objects: 1532, done.\u001b[K\n",
            "remote: Total 1532 (delta 0), reused 0 (delta 0), pack-reused 1532\u001b[K\n",
            "Receiving objects: 100% (1532/1532), 88.56 MiB | 29.67 MiB/s, done.\n",
            "Resolving deltas: 100% (1/1), done.\n"
          ]
        }
      ]
    },
    {
      "cell_type": "markdown",
      "metadata": {
        "id": "DkBsy5e94Wi1"
      },
      "source": [
        "##Imports"
      ]
    },
    {
      "cell_type": "code",
      "metadata": {
        "id": "V8JxQnD5qLEp"
      },
      "source": [
        "import numpy as np\n",
        "import torch\n",
        "import torch.nn as nn\n",
        "import torchvision\n",
        "from collections import OrderedDict\n",
        "from imutils import paths\n",
        "from PIL import Image\n",
        "from torchvision.models import resnet18\n",
        "import matplotlib.pyplot as plt\n",
        "import seaborn as sns\n",
        "\n",
        "%matplotlib inline"
      ],
      "execution_count": 35,
      "outputs": []
    },
    {
      "cell_type": "code",
      "metadata": {
        "id": "shLQCQaSvi1L"
      },
      "source": [
        "DEVICE = torch.device('cuda')"
      ],
      "execution_count": 3,
      "outputs": []
    },
    {
      "cell_type": "markdown",
      "metadata": {
        "id": "i6kckSt54X6v"
      },
      "source": [
        "##Helper Classes"
      ]
    },
    {
      "cell_type": "code",
      "metadata": {
        "id": "VTT9xbSXpSlG"
      },
      "source": [
        "class TrainDataset(torch.utils.data.Dataset):\n",
        "  def __init__(self, data):\n",
        "    self.data = data\n",
        "    self.train_images = train_images\n",
        "\n",
        "  def __len__(self):\n",
        "    return(len(self.train_images))\n",
        "\n",
        "  def tensorify(self, img):\n",
        "    return torchvision.transforms.Normalize((0.5, 0.5, 0.5), (0.5, 0.5, 0.5))(\n",
        "        torchvision.transforms.ToTensor()(img)\n",
        "    )\n",
        "\n",
        "  def augmented_image(self, img, s = 1):\n",
        "    color_jitter = torchvision.transforms.ColorJitter(0.8 * s, 0.8 * s, 0.8 * s, 0.2 * s)\n",
        "    rnd_color_jitter = torchvision.transforms.RandomApply([color_jitter], p = 0.8)\n",
        "    rnd_gray = torchvision.transforms.RandomGrayscale(p = 0.2)\n",
        "    color_distort = torchvision.transforms.Compose([rnd_color_jitter, rnd_gray])\n",
        "    return color_distort(\n",
        "        torchvision.transforms.RandomResizedCrop(224)(img)\n",
        "    )\n",
        "\n",
        "  def __getitem__(self, idx):\n",
        "    img = torchvision.transforms.Resize((224, 224))(\n",
        "        Image.open(self.train_images[idx]).convert(\"RGB\")\n",
        "    )\n",
        "    return {\n",
        "        \"image1\": self.tensorify(\n",
        "            self.augmented_image(img)\n",
        "        ),\n",
        "        \"image2\": self.tensorify(\n",
        "            self.augmented_image(img)\n",
        "        )\n",
        "    }"
      ],
      "execution_count": 4,
      "outputs": []
    },
    {
      "cell_type": "code",
      "metadata": {
        "id": "9z8cBOd_r5iM"
      },
      "source": [
        "class SimCLR:\n",
        "  def __init__(self, model, optimizer, data_loaders, loss_fn):\n",
        "    self.model = model\n",
        "    self.optimizer = optimizer\n",
        "    self.data_loaders = data_loaders\n",
        "    self.loss_fn = loss_fn\n",
        "\n",
        "  def train(self, num_epochs):\n",
        "    batch_loss = []\n",
        "    epoch_loss = []\n",
        "\n",
        "    self.model.train()\n",
        "\n",
        "    for epoch in range(num_epochs):\n",
        "      for batch in self.data_loaders:\n",
        "        self.optimizer.zero_grad()\n",
        "        x1 = batch['image1'].to(DEVICE)\n",
        "        x2 = batch['image2'].to(DEVICE)\n",
        "        y1 = self.model(x1)\n",
        "        y2 = self.model(x2)\n",
        "        loss = self.loss_fn(y1, y2)\n",
        "        batch_loss.append(loss.cpu().data.item())\n",
        "        #perform backprop on loss value to get gradient values\n",
        "        loss.backward()\n",
        "        #run the optimizer\n",
        "        self.optimizer.step()\n",
        "      epoch_loss.append(np.mean(batch_loss))\n",
        "      print(f\"epoch = {epoch + 1}, loss = {epoch_loss[-1]}\")\n",
        "    return epoch_loss"
      ],
      "execution_count": 5,
      "outputs": []
    },
    {
      "cell_type": "markdown",
      "metadata": {
        "id": "Bt6OVUDB4alo"
      },
      "source": [
        "##Helper Functions"
      ]
    },
    {
      "cell_type": "code",
      "metadata": {
        "id": "RJA8HYv-wxVl"
      },
      "source": [
        "def get_model():\n",
        "  resnet = resnet18(pretrained = False)\n",
        "\n",
        "  head = nn.Sequential(OrderedDict([\n",
        "        ('fc1', nn.Linear(resnet.fc.in_features, 100)),\n",
        "        ('added_relu1', nn.ReLU(inplace = True)),\n",
        "        ('fc2', nn.Linear(100, 100)),\n",
        "        ('added_relu2', nn.ReLU(inplace = True)),\n",
        "        ('fc3', nn.Linear(100, 100))\n",
        "  ]))\n",
        "\n",
        "  resnet.fc = head\n",
        "  resnet.to(DEVICE)\n",
        "\n",
        "  return resnet"
      ],
      "execution_count": 6,
      "outputs": []
    },
    {
      "cell_type": "code",
      "metadata": {
        "id": "5Yxr5Xk9xA2W"
      },
      "source": [
        "def loss(a, b):\n",
        "  tau = 0.05\n",
        "  a_norm = torch.norm(a, dim=1).reshape(-1, 1)\n",
        "  a_cap = torch.div(a, a_norm)\n",
        "  b_norm = torch.norm(b, dim=1).reshape(-1, 1)\n",
        "  b_cap = torch.div(b, b_norm)\n",
        "  a_cap_b_cap = torch.cat([a_cap, b_cap], dim=0)\n",
        "  a_cap_b_cap_transpose = torch.t(a_cap_b_cap)\n",
        "  b_cap_a_cap = torch.cat([b_cap, a_cap], dim=0)\n",
        "  sim = torch.mm(a_cap_b_cap, a_cap_b_cap_transpose)\n",
        "  sim_by_tau = torch.div(sim, tau)\n",
        "  exp_sim_by_tau = torch.exp(sim_by_tau)\n",
        "  sum_of_rows = torch.sum(exp_sim_by_tau, dim=1)\n",
        "  exp_sim_by_tau_diag = torch.diag(exp_sim_by_tau)\n",
        "  numerators = torch.exp(torch.div(torch.nn.CosineSimilarity()(a_cap_b_cap, b_cap_a_cap), tau))\n",
        "  denominators = sum_of_rows - exp_sim_by_tau_diag\n",
        "  num_by_den = torch.div(numerators, denominators)\n",
        "  neg_log_num_by_den = -torch.log(num_by_den)\n",
        "  return torch.mean(neg_log_num_by_den)"
      ],
      "execution_count": 7,
      "outputs": []
    },
    {
      "cell_type": "markdown",
      "metadata": {
        "id": "Q8Gw9E_r4cWS"
      },
      "source": [
        "##Run model"
      ]
    },
    {
      "cell_type": "code",
      "metadata": {
        "colab": {
          "base_uri": "https://localhost:8080/"
        },
        "id": "M9AwjmxOx2Ww",
        "outputId": "782bfb7c-71af-4451-c768-925c7ba7d8a7"
      },
      "source": [
        "train_images = list(paths.list_images(\"imagenet-5-categories/train\"))\n",
        "model = get_model()\n",
        "optimizer = torch.optim.Adam(model.parameters(), lr = 0.001, weight_decay = 1e-4)\n",
        "data_loader = torch.utils.data.DataLoader(TrainDataset(train_images), batch_size = 32, shuffle = True, num_workers = 2)\n",
        "epoch_loss = SimCLR(model, optimizer, data_loader, loss).train(10)"
      ],
      "execution_count": 10,
      "outputs": [
        {
          "output_type": "stream",
          "name": "stderr",
          "text": [
            "/usr/local/lib/python3.7/dist-packages/torch/nn/functional.py:718: UserWarning: Named tensors and all their associated APIs are an experimental feature and subject to change. Please do not use them for anything important until they are released as stable. (Triggered internally at  /pytorch/c10/core/TensorImpl.h:1156.)\n",
            "  return torch.max_pool2d(input, kernel_size, stride, padding, dilation, ceil_mode)\n"
          ]
        },
        {
          "output_type": "stream",
          "name": "stdout",
          "text": [
            "epoch = 1, loss = 4.037615859508515\n",
            "epoch = 2, loss = 4.010408767312765\n",
            "epoch = 3, loss = 3.984715875486533\n",
            "epoch = 4, loss = 3.972729215398431\n",
            "epoch = 5, loss = 3.9657945108413695\n",
            "epoch = 6, loss = 3.953844590485096\n",
            "epoch = 7, loss = 3.949254758443151\n",
            "epoch = 8, loss = 3.9364465905353425\n",
            "epoch = 9, loss = 3.937958250277572\n",
            "epoch = 10, loss = 3.92671745095402\n"
          ]
        }
      ]
    },
    {
      "cell_type": "code",
      "metadata": {
        "colab": {
          "base_uri": "https://localhost:8080/",
          "height": 265
        },
        "id": "5ftpNpeT3fiR",
        "outputId": "45490a0c-644a-4302-ded7-57b65e53ab1f"
      },
      "source": [
        "plt.plot(epoch_loss)\n",
        "sns.set_style('darkgrid')"
      ],
      "execution_count": 33,
      "outputs": [
        {
          "output_type": "display_data",
          "data": {
            "image/png": "[encoded data removed]",
            "text/plain": [
              "<Figure size 432x288 with 1 Axes>"
            ]
          },
          "metadata": {}
        }
      ]
    }
  ]
}