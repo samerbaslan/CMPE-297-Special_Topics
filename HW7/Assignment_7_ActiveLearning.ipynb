{
  "nbformat": 4,
  "nbformat_minor": 0,
  "metadata": {
    "colab": {
      "name": "Assignment_7_ActiveLearning.ipynb",
      "provenance": []
    },
    "kernelspec": {
      "name": "python3",
      "display_name": "Python 3"
    },
    "language_info": {
      "name": "python"
    },
    "accelerator": "GPU"
  },
  "cells": [
    {
      "cell_type": "markdown",
      "source": [
        "#Samer Baslan\n",
        "#CMPE-297: Assignment 7 Active Learning\n",
        "#Fall 2021\n",
        "\n",
        "Resource/credit: https://colab.research.google.com/github/rachhouse/intro-to-data-linking/blob/main/tutorial_notebooks/03_Link_FEBRL_Data_with_Active_Learning.ipynb#scrollTo=1JOAImRfTljQ"
      ],
      "metadata": {
        "id": "Sd5RsOVzbdwf"
      }
    },
    {
      "cell_type": "code",
      "execution_count": 1,
      "metadata": {
        "id": "ohqqiCCkZCuu"
      },
      "outputs": [],
      "source": [
        "try:\n",
        "    import google.colab\n",
        "    COLAB = True\n",
        "except ModuleNotFoundError:\n",
        "    COLAB = False\n",
        "    \n",
        "# If we're running in Colab, download the tutorial functions file \n",
        "# to the Colab session local directory, and install required libraries.\n",
        "if COLAB:\n",
        "    import requests\n",
        "    \n",
        "    tutorial_functions_url = \"https://raw.githubusercontent.com/rachhouse/intro-to-data-linking/main/tutorial_notebooks/linking_tutorial_functions.py\"\n",
        "    r = requests.get(tutorial_functions_url)\n",
        "    \n",
        "    with open(\"linking_tutorial_functions.py\", \"w\") as fh:\n",
        "        fh.write(r.text)\n",
        "    \n",
        "    !pip install -q altair dedupe dedupe-variable-name jellyfish recordlinkage "
      ]
    },
    {
      "cell_type": "code",
      "source": [
        "!pip install numpy --upgrade"
      ],
      "metadata": {
        "colab": {
          "base_uri": "https://localhost:8080/"
        },
        "id": "7cY9wGFHcjLA",
        "outputId": "85ec785d-737f-4747-9fcb-a514d6f2751f"
      },
      "execution_count": 2,
      "outputs": [
        {
          "output_type": "stream",
          "name": "stdout",
          "text": [
            "Requirement already satisfied: numpy in /usr/local/lib/python3.7/dist-packages (1.21.4)\n"
          ]
        }
      ]
    },
    {
      "cell_type": "code",
      "source": [
        "import datetime\n",
        "import itertools\n",
        "import os\n",
        "import pathlib\n",
        "import re\n",
        "from typing import Any, Dict, Optional\n",
        "\n",
        "import dedupe\n",
        "import pandas as pd\n",
        "\n",
        "import linking_tutorial_functions as tutorial"
      ],
      "metadata": {
        "colab": {
          "base_uri": "https://localhost:8080/"
        },
        "id": "kvVVNBvubmpn",
        "outputId": "7fae595d-15ae-4c15-e0eb-9b34d8504cf0"
      },
      "execution_count": 3,
      "outputs": [
        {
          "output_type": "stream",
          "name": "stderr",
          "text": [
            "INFO:root:Generating grammar tables from /usr/lib/python3.7/lib2to3/Grammar.txt\n",
            "INFO:root:Generating grammar tables from /usr/lib/python3.7/lib2to3/PatternGrammar.txt\n"
          ]
        }
      ]
    },
    {
      "cell_type": "code",
      "source": [
        "WORKING_DIR = pathlib.Path(os.path.abspath(''))\n",
        "WORKING_DIR"
      ],
      "metadata": {
        "colab": {
          "base_uri": "https://localhost:8080/"
        },
        "id": "BtkqnWjUbpaA",
        "outputId": "cebbabaf-0bf6-4701-8430-d35238bc2109"
      },
      "execution_count": 4,
      "outputs": [
        {
          "output_type": "execute_result",
          "data": {
            "text/plain": [
              "PosixPath('/content')"
            ]
          },
          "metadata": {},
          "execution_count": 4
        }
      ]
    },
    {
      "cell_type": "code",
      "source": [
        "df_A, df_B, df_ground_truth = tutorial.load_febrl_training_data(COLAB)"
      ],
      "metadata": {
        "id": "V4mbt_zzbqey"
      },
      "execution_count": 5,
      "outputs": []
    },
    {
      "cell_type": "code",
      "source": [
        "df_A.head()"
      ],
      "metadata": {
        "colab": {
          "base_uri": "https://localhost:8080/",
          "height": 238
        },
        "id": "wh_xtpACbqdK",
        "outputId": "b71b7f55-912c-4c13-9946-d6687fc0800c"
      },
      "execution_count": 6,
      "outputs": [
        {
          "output_type": "execute_result",
          "data": {
            "text/html": [
              "<div>\n",
              "<style scoped>\n",
              "    .dataframe tbody tr th:only-of-type {\n",
              "        vertical-align: middle;\n",
              "    }\n",
              "\n",
              "    .dataframe tbody tr th {\n",
              "        vertical-align: top;\n",
              "    }\n",
              "\n",
              "    .dataframe thead th {\n",
              "        text-align: right;\n",
              "    }\n",
              "</style>\n",
              "<table border=\"1\" class=\"dataframe\">\n",
              "  <thead>\n",
              "    <tr style=\"text-align: right;\">\n",
              "      <th></th>\n",
              "      <th>first_name</th>\n",
              "      <th>surname</th>\n",
              "      <th>street_number</th>\n",
              "      <th>address_1</th>\n",
              "      <th>address_2</th>\n",
              "      <th>suburb</th>\n",
              "      <th>postcode</th>\n",
              "      <th>state</th>\n",
              "      <th>date_of_birth</th>\n",
              "      <th>age</th>\n",
              "      <th>phone_number</th>\n",
              "      <th>soc_sec_id</th>\n",
              "    </tr>\n",
              "    <tr>\n",
              "      <th>person_id_A</th>\n",
              "      <th></th>\n",
              "      <th></th>\n",
              "      <th></th>\n",
              "      <th></th>\n",
              "      <th></th>\n",
              "      <th></th>\n",
              "      <th></th>\n",
              "      <th></th>\n",
              "      <th></th>\n",
              "      <th></th>\n",
              "      <th></th>\n",
              "      <th></th>\n",
              "    </tr>\n",
              "  </thead>\n",
              "  <tbody>\n",
              "    <tr>\n",
              "      <th>fbc4143d-15f9-4f27-b5f0-dedbadce6616</th>\n",
              "      <td>matilda</td>\n",
              "      <td>struck</td>\n",
              "      <td>8</td>\n",
              "      <td>ballard place</td>\n",
              "      <td></td>\n",
              "      <td>west perth</td>\n",
              "      <td>2470</td>\n",
              "      <td>qld</td>\n",
              "      <td>19611002</td>\n",
              "      <td>32</td>\n",
              "      <td>03 05903135</td>\n",
              "      <td>8276847</td>\n",
              "    </tr>\n",
              "    <tr>\n",
              "      <th>48a56cad-7ba6-45e1-97cd-517ba65bdab5</th>\n",
              "      <td>lachlan</td>\n",
              "      <td>eglinton</td>\n",
              "      <td>36</td>\n",
              "      <td>kambalda crescent</td>\n",
              "      <td>villa 427</td>\n",
              "      <td>auburn</td>\n",
              "      <td>5109</td>\n",
              "      <td></td>\n",
              "      <td>19260108</td>\n",
              "      <td>27</td>\n",
              "      <td></td>\n",
              "      <td>9937958</td>\n",
              "    </tr>\n",
              "    <tr>\n",
              "      <th>b1792d21-e4be-4b86-8dea-454ffa5194c5</th>\n",
              "      <td>mikayla</td>\n",
              "      <td>asher</td>\n",
              "      <td>588</td>\n",
              "      <td>britten-jones drive</td>\n",
              "      <td></td>\n",
              "      <td>miami</td>\n",
              "      <td>4218</td>\n",
              "      <td>nsw</td>\n",
              "      <td>19251102</td>\n",
              "      <td>32</td>\n",
              "      <td>03 33770501</td>\n",
              "      <td>7017310</td>\n",
              "    </tr>\n",
              "    <tr>\n",
              "      <th>96653d73-bebc-4459-94f3-c3f0a8c514d4</th>\n",
              "      <td>grace</td>\n",
              "      <td>bristow</td>\n",
              "      <td>7</td>\n",
              "      <td></td>\n",
              "      <td>wandella park snowy</td>\n",
              "      <td>cardiff</td>\n",
              "      <td>6163</td>\n",
              "      <td>nsw</td>\n",
              "      <td>19400120</td>\n",
              "      <td></td>\n",
              "      <td>07 37864073</td>\n",
              "      <td>3535974</td>\n",
              "    </tr>\n",
              "    <tr>\n",
              "      <th>41f038b8-77c0-45a5-9e1f-e62b8637ffd1</th>\n",
              "      <td>wilson</td>\n",
              "      <td>bishop</td>\n",
              "      <td>11</td>\n",
              "      <td>chisholm street</td>\n",
              "      <td></td>\n",
              "      <td>bronte</td>\n",
              "      <td>2490</td>\n",
              "      <td>nsw</td>\n",
              "      <td>19210305</td>\n",
              "      <td>27</td>\n",
              "      <td>04 15209769</td>\n",
              "      <td>5573522</td>\n",
              "    </tr>\n",
              "  </tbody>\n",
              "</table>\n",
              "</div>"
            ],
            "text/plain": [
              "                                     first_name  ... soc_sec_id\n",
              "person_id_A                                      ...           \n",
              "fbc4143d-15f9-4f27-b5f0-dedbadce6616    matilda  ...    8276847\n",
              "48a56cad-7ba6-45e1-97cd-517ba65bdab5    lachlan  ...    9937958\n",
              "b1792d21-e4be-4b86-8dea-454ffa5194c5    mikayla  ...    7017310\n",
              "96653d73-bebc-4459-94f3-c3f0a8c514d4      grace  ...    3535974\n",
              "41f038b8-77c0-45a5-9e1f-e62b8637ffd1     wilson  ...    5573522\n",
              "\n",
              "[5 rows x 12 columns]"
            ]
          },
          "metadata": {},
          "execution_count": 6
        }
      ]
    },
    {
      "cell_type": "code",
      "source": [
        "def format_dob(dob: str) -> Optional[str]:\n",
        "    \"\"\" Transform date of birth format from YYYYMMDD to mm/dd/yy.\n",
        "        If DOB cannot be transformed, return None.\n",
        "    \"\"\"\n",
        "    try:\n",
        "        if re.match(r\"\\d{8}\", dob):\n",
        "            return (datetime.datetime.strptime(dob, \"%Y%m%d\")).strftime(\"%m/%d/%y\")\n",
        "    except:\n",
        "        pass\n",
        "\n",
        "    return None\n",
        "\n",
        "def strip_and_null(x: Any) -> Optional[str]:\n",
        "    \"\"\" Stringify incoming variable, remove trailing/leading whitespace\n",
        "        and return resulting string. Return None if resulting string is empty.\n",
        "    \"\"\"\n",
        "    x = str(x).strip()\n",
        "    \n",
        "    if x == \"\":\n",
        "        return None\n",
        "    else:\n",
        "        return x\n",
        "    \n",
        "def convert_df_to_dict(df: pd.DataFrame) -> Dict[str, Dict]:\n",
        "    \"\"\" Convert pandas DataFrame to dict keyed by record id.\n",
        "        Convert all fields to strings or Nones to satisfy dedupe.\n",
        "        Transform date format of date_of_birth field.\n",
        "    \"\"\"    \n",
        "\n",
        "    for col in df.columns:\n",
        "        df[col] = df[col].apply(lambda x: strip_and_null(x))\n",
        "\n",
        "    df[\"date_of_birth\"] = df[\"date_of_birth\"].apply(lambda x: format_dob(x))    \n",
        "\n",
        "    return df.to_dict(\"index\")"
      ],
      "metadata": {
        "id": "qLnOut5hbqbd"
      },
      "execution_count": 7,
      "outputs": []
    },
    {
      "cell_type": "code",
      "source": [
        "records_A = convert_df_to_dict(df_A)\n",
        "records_B = convert_df_to_dict(df_B)"
      ],
      "metadata": {
        "id": "YiqiOe0DbqZU"
      },
      "execution_count": 8,
      "outputs": []
    },
    {
      "cell_type": "code",
      "source": [
        "[records_A[k] for k in list(records_A.keys())[0:2]]"
      ],
      "metadata": {
        "colab": {
          "base_uri": "https://localhost:8080/"
        },
        "id": "GmbmGg5mbqSO",
        "outputId": "76ed8892-89a2-4ea3-ae99-3e5932102ae0"
      },
      "execution_count": 9,
      "outputs": [
        {
          "output_type": "execute_result",
          "data": {
            "text/plain": [
              "[{'address_1': 'ballard place',\n",
              "  'address_2': None,\n",
              "  'age': '32',\n",
              "  'date_of_birth': '10/02/61',\n",
              "  'first_name': 'matilda',\n",
              "  'phone_number': '03 05903135',\n",
              "  'postcode': '2470',\n",
              "  'soc_sec_id': '8276847',\n",
              "  'state': 'qld',\n",
              "  'street_number': '8',\n",
              "  'suburb': 'west perth',\n",
              "  'surname': 'struck'},\n",
              " {'address_1': 'kambalda crescent',\n",
              "  'address_2': 'villa 427',\n",
              "  'age': '27',\n",
              "  'date_of_birth': '01/08/26',\n",
              "  'first_name': 'lachlan',\n",
              "  'phone_number': None,\n",
              "  'postcode': '5109',\n",
              "  'soc_sec_id': '9937958',\n",
              "  'state': None,\n",
              "  'street_number': '36',\n",
              "  'suburb': 'auburn',\n",
              "  'surname': 'eglinton'}]"
            ]
          },
          "metadata": {},
          "execution_count": 9
        }
      ]
    },
    {
      "cell_type": "code",
      "source": [
        "%%time\n",
        "\n",
        "fields = [\n",
        "    { \"field\" : \"first_name\", \"type\" : \"Name\" },\n",
        "    { \"field\" : \"surname\", \"type\" : \"Name\" },\n",
        "    { \"field\" : \"address_1\", \"type\" : \"ShortString\" },\n",
        "    { \"field\" : \"address_2\", \"type\" : \"ShortString\" },\n",
        "    { \"field\" : \"suburb\", \"type\" : \"ShortString\" },\n",
        "    { \"field\" : \"postcode\", \"type\" : \"Exact\" },\n",
        "    { \"field\" : \"state\", \"type\" : \"Exact\" },\n",
        "    { \"field\" : \"date_of_birth\", \"type\" : \"DateTime\" },\n",
        "    { \"field\" : \"soc_sec_id\", \"type\" : \"Exact\" },\n",
        "]\n",
        "\n",
        "linker = dedupe.RecordLink(fields)\n",
        "linker.prepare_training(records_A, records_B)"
      ],
      "metadata": {
        "colab": {
          "base_uri": "https://localhost:8080/"
        },
        "id": "Ih4hnir3bqQJ",
        "outputId": "0eddda0e-351a-4f16-b406-a276cc248e90"
      },
      "execution_count": 10,
      "outputs": [
        {
          "output_type": "stream",
          "name": "stderr",
          "text": [
            "INFO:dedupe.canopy_index:Removing stop word re\n",
            "INFO:dedupe.training:Final predicate set:\n",
            "INFO:dedupe.training:SimplePredicate: (wholeFieldPredicate, date_of_birth)\n"
          ]
        },
        {
          "output_type": "stream",
          "name": "stdout",
          "text": [
            "CPU times: user 46.2 s, sys: 673 ms, total: 46.9 s\n",
            "Wall time: 46.4 s\n"
          ]
        }
      ]
    },
    {
      "cell_type": "code",
      "source": [
        "dedupe.console_label(linker)"
      ],
      "metadata": {
        "colab": {
          "base_uri": "https://localhost:8080/"
        },
        "id": "Fb4PlbqQbwqw",
        "outputId": "1e1dc6ee-ed5c-4be5-eaf2-8f5ac96ed134"
      },
      "execution_count": 11,
      "outputs": [
        {
          "output_type": "stream",
          "name": "stderr",
          "text": [
            "first_name : william\n",
            "surname : finlay\n",
            "address_1 : florentine circuit\n",
            "address_2 : merimaja\n",
            "suburb : None\n",
            "postcode : 2099\n",
            "state : nsw\n",
            "date_of_birth : 07/31/88\n",
            "soc_sec_id : 1431428\n",
            "\n",
            "first_name : william\n",
            "surname : findoay\n",
            "address_1 : florentine circuit\n",
            "address_2 : merimaja\n",
            "suburb : None\n",
            "postcode : 2099\n",
            "state : nsw\n",
            "date_of_birth : None\n",
            "soc_sec_id : 1431428\n",
            "\n",
            "0/10 positive, 0/10 negative\n",
            "Do these records refer to the same thing?\n",
            "(y)es / (n)o / (u)nsure / (f)inished\n"
          ]
        },
        {
          "name": "stdout",
          "output_type": "stream",
          "text": [
            "y\n"
          ]
        },
        {
          "output_type": "stream",
          "name": "stderr",
          "text": [
            "first_name : matilda\n",
            "surname : piening\n",
            "address_1 : lenehan street\n",
            "address_2 : None\n",
            "suburb : None\n",
            "postcode : 4552\n",
            "state : nsw\n",
            "date_of_birth : 08/11/52\n",
            "soc_sec_id : 8766201\n",
            "\n",
            "first_name : lydia\n",
            "surname : paine\n",
            "address_1 : None\n",
            "address_2 : None\n",
            "suburb : williamstown\n",
            "postcode : 2232\n",
            "state : nsw\n",
            "date_of_birth : None\n",
            "soc_sec_id : 4266599\n",
            "\n",
            "1/10 positive, 0/10 negative\n",
            "Do these records refer to the same thing?\n",
            "(y)es / (n)o / (u)nsure / (f)inished / (p)revious\n"
          ]
        },
        {
          "name": "stdout",
          "output_type": "stream",
          "text": [
            "n\n"
          ]
        },
        {
          "output_type": "stream",
          "name": "stderr",
          "text": [
            "INFO:dedupe.training:Final predicate set:\n",
            "INFO:dedupe.training:SimplePredicate: (wholeFieldPredicate, soc_sec_id)\n",
            "first_name : danika\n",
            "surname : longo\n",
            "address_1 : None\n",
            "address_2 : alblas hostel\n",
            "suburb : avondale heights\n",
            "postcode : 4558\n",
            "state : nsw\n",
            "date_of_birth : 07/01/35\n",
            "soc_sec_id : 9461847\n",
            "\n",
            "first_name : chloe\n",
            "surname : hare\n",
            "address_1 : la trobme close\n",
            "address_2 : None\n",
            "suburb : None\n",
            "postcode : 3195\n",
            "state : qld\n",
            "date_of_birth : None\n",
            "soc_sec_id : 9880358\n",
            "\n",
            "1/10 positive, 1/10 negative\n",
            "Do these records refer to the same thing?\n",
            "(y)es / (n)o / (u)nsure / (f)inished / (p)revious\n"
          ]
        },
        {
          "name": "stdout",
          "output_type": "stream",
          "text": [
            "n\n"
          ]
        },
        {
          "output_type": "stream",
          "name": "stderr",
          "text": [
            "first_name : emiily\n",
            "surname : chater\n",
            "address_1 : lines place\n",
            "address_2 : kurrajong\n",
            "suburb : yarraville\n",
            "postcode : 2800\n",
            "state : vic\n",
            "date_of_birth : 03/04/02\n",
            "soc_sec_id : 5736751\n",
            "\n",
            "first_name : connor\n",
            "surname : tsoutas\n",
            "address_1 : hardiec ljse\n",
            "address_2 : arlington\n",
            "suburb : view bank\n",
            "postcode : 3108\n",
            "state : sa\n",
            "date_of_birth : None\n",
            "soc_sec_id : 1819013\n",
            "\n",
            "1/10 positive, 2/10 negative\n",
            "Do these records refer to the same thing?\n",
            "(y)es / (n)o / (u)nsure / (f)inished / (p)revious\n"
          ]
        },
        {
          "name": "stdout",
          "output_type": "stream",
          "text": [
            "n\n"
          ]
        },
        {
          "output_type": "stream",
          "name": "stderr",
          "text": [
            "first_name : cooper\n",
            "surname : crouch\n",
            "address_1 : macpherson street\n",
            "address_2 : k mart plaza\n",
            "suburb : greenfield park\n",
            "postcode : 3108\n",
            "state : nsw\n",
            "date_of_birth : None\n",
            "soc_sec_id : 3135767\n",
            "\n",
            "first_name : staude\n",
            "surname : danielle\n",
            "address_1 : butterley place\n",
            "address_2 : denture clnc\n",
            "suburb : sheidowy park\n",
            "postcode : 4311\n",
            "state : vic\n",
            "date_of_birth : 05/06/89\n",
            "soc_sec_id : 2467143\n",
            "\n",
            "1/10 positive, 3/10 negative\n",
            "Do these records refer to the same thing?\n",
            "(y)es / (n)o / (u)nsure / (f)inished / (p)revious\n"
          ]
        },
        {
          "name": "stdout",
          "output_type": "stream",
          "text": [
            "n\n"
          ]
        },
        {
          "output_type": "stream",
          "name": "stderr",
          "text": [
            "first_name : joshua\n",
            "surname : soden\n",
            "address_1 : None\n",
            "address_2 : None\n",
            "suburb : newington\n",
            "postcode : 6005\n",
            "state : qld\n",
            "date_of_birth : 05/15/25\n",
            "soc_sec_id : 8231655\n",
            "\n",
            "first_name : soden\n",
            "surname : joshua\n",
            "address_1 : None\n",
            "address_2 : None\n",
            "suburb : newington\n",
            "postcode : 6005\n",
            "state : qld\n",
            "date_of_birth : 05/15/25\n",
            "soc_sec_id : 8231355\n",
            "\n",
            "1/10 positive, 4/10 negative\n",
            "Do these records refer to the same thing?\n",
            "(y)es / (n)o / (u)nsure / (f)inished / (p)revious\n"
          ]
        },
        {
          "name": "stdout",
          "output_type": "stream",
          "text": [
            "y\n"
          ]
        },
        {
          "output_type": "stream",
          "name": "stderr",
          "text": [
            "first_name : lee\n",
            "surname : white\n",
            "address_1 : lelta place\n",
            "address_2 : None\n",
            "suburb : mayfield\n",
            "postcode : 4179\n",
            "state : nsw\n",
            "date_of_birth : 12/22/81\n",
            "soc_sec_id : 8731907\n",
            "\n",
            "first_name : ae\n",
            "surname : whife\n",
            "address_1 : lelta place\n",
            "address_2 : None\n",
            "suburb : mayfield\n",
            "postcode : 4179\n",
            "state : nsw\n",
            "date_of_birth : 12/22/81\n",
            "soc_sec_id : 8731970\n",
            "\n",
            "2/10 positive, 4/10 negative\n",
            "Do these records refer to the same thing?\n",
            "(y)es / (n)o / (u)nsure / (f)inished / (p)revious\n"
          ]
        },
        {
          "name": "stdout",
          "output_type": "stream",
          "text": [
            "y\n"
          ]
        },
        {
          "output_type": "stream",
          "name": "stderr",
          "text": [
            "INFO:dedupe.training:Final predicate set:\n",
            "INFO:dedupe.training:SimplePredicate: (wholeFieldPredicate, date_of_birth)\n",
            "INFO:dedupe.training:SimplePredicate: (twoGramFingerprint, address_2)\n",
            "first_name : elly\n",
            "surname : churches\n",
            "address_1 : dumas street\n",
            "address_2 : None\n",
            "suburb : balranald\n",
            "postcode : 3226\n",
            "state : nsw\n",
            "date_of_birth : 06/08/67\n",
            "soc_sec_id : 7649913\n",
            "\n",
            "first_name : churches\n",
            "surname : elly\n",
            "address_1 : dumas street\n",
            "address_2 : None\n",
            "suburb : balranald\n",
            "postcode : 3226\n",
            "state : nsw\n",
            "date_of_birth : None\n",
            "soc_sec_id : 7649913\n",
            "\n",
            "3/10 positive, 4/10 negative\n",
            "Do these records refer to the same thing?\n",
            "(y)es / (n)o / (u)nsure / (f)inished / (p)revious\n"
          ]
        },
        {
          "name": "stdout",
          "output_type": "stream",
          "text": [
            "y\n"
          ]
        },
        {
          "output_type": "stream",
          "name": "stderr",
          "text": [
            "first_name : indiana\n",
            "surname : lowe\n",
            "address_1 : dines place\n",
            "address_2 : None\n",
            "suburb : nambour\n",
            "postcode : 4066\n",
            "state : nsw\n",
            "date_of_birth : None\n",
            "soc_sec_id : 5039834\n",
            "\n",
            "first_name : lowe\n",
            "surname : indiana\n",
            "address_1 : dines place\n",
            "address_2 : None\n",
            "suburb : nambour\n",
            "postcode : 4066\n",
            "state : None\n",
            "date_of_birth : None\n",
            "soc_sec_id : 5039834\n",
            "\n",
            "4/10 positive, 4/10 negative\n",
            "Do these records refer to the same thing?\n",
            "(y)es / (n)o / (u)nsure / (f)inished / (p)revious\n"
          ]
        },
        {
          "name": "stdout",
          "output_type": "stream",
          "text": [
            "y\n"
          ]
        },
        {
          "output_type": "stream",
          "name": "stderr",
          "text": [
            "INFO:dedupe.training:Final predicate set:\n",
            "INFO:dedupe.training:SimplePredicate: (wholeFieldPredicate, date_of_birth)\n",
            "INFO:dedupe.training:SimplePredicate: (wholeFieldPredicate, soc_sec_id)\n",
            "first_name : lucy\n",
            "surname : vincent\n",
            "address_1 : None\n",
            "address_2 : homevale\n",
            "suburb : bargara\n",
            "postcode : 7249\n",
            "state : nsw\n",
            "date_of_birth : None\n",
            "soc_sec_id : 7040184\n",
            "\n",
            "first_name : jacm\n",
            "surname : stanley\n",
            "address_1 : stitchestreet\n",
            "address_2 : None\n",
            "suburb : bargara\n",
            "postcode : 2021\n",
            "state : tas\n",
            "date_of_birth : None\n",
            "soc_sec_id : 3642828\n",
            "\n",
            "5/10 positive, 4/10 negative\n",
            "Do these records refer to the same thing?\n",
            "(y)es / (n)o / (u)nsure / (f)inished / (p)revious\n"
          ]
        },
        {
          "name": "stdout",
          "output_type": "stream",
          "text": [
            "n\n"
          ]
        },
        {
          "output_type": "stream",
          "name": "stderr",
          "text": [
            "first_name : alessandria\n",
            "surname : green\n",
            "address_1 : phillip avenue\n",
            "address_2 : None\n",
            "suburb : ryde\n",
            "postcode : 4101\n",
            "state : None\n",
            "date_of_birth : 04/08/26\n",
            "soc_sec_id : 1116672\n",
            "\n",
            "first_name : niamh\n",
            "surname : nan\n",
            "address_1 : phillip avenue\n",
            "address_2 : None\n",
            "suburb : None\n",
            "postcode : 3939\n",
            "state : vic\n",
            "date_of_birth : None\n",
            "soc_sec_id : 8913923\n",
            "\n",
            "5/10 positive, 5/10 negative\n",
            "Do these records refer to the same thing?\n",
            "(y)es / (n)o / (u)nsure / (f)inished / (p)revious\n"
          ]
        },
        {
          "name": "stdout",
          "output_type": "stream",
          "text": [
            "n\n"
          ]
        },
        {
          "output_type": "stream",
          "name": "stderr",
          "text": [
            "first_name : keelin\n",
            "surname : green\n",
            "address_1 : sparkes close\n",
            "address_2 : None\n",
            "suburb : alice springs\n",
            "postcode : 2484\n",
            "state : vic\n",
            "date_of_birth : None\n",
            "soc_sec_id : 7584919\n",
            "\n",
            "first_name : jessica\n",
            "surname : pyow\n",
            "address_1 : clift crescent\n",
            "address_2 : pankina\n",
            "suburb : alice springs\n",
            "postcode : 6018\n",
            "state : vic\n",
            "date_of_birth : 12/15/92\n",
            "soc_sec_id : 5474213\n",
            "\n",
            "5/10 positive, 6/10 negative\n",
            "Do these records refer to the same thing?\n",
            "(y)es / (n)o / (u)nsure / (f)inished / (p)revious\n"
          ]
        },
        {
          "name": "stdout",
          "output_type": "stream",
          "text": [
            "n\n"
          ]
        },
        {
          "output_type": "stream",
          "name": "stderr",
          "text": [
            "first_name : liam\n",
            "surname : fimeri\n",
            "address_1 : banks street\n",
            "address_2 : None\n",
            "suburb : dover heights\n",
            "postcode : 4304\n",
            "state : qld\n",
            "date_of_birth : 06/12/47\n",
            "soc_sec_id : 2723418\n",
            "\n",
            "first_name : tiahnee\n",
            "surname : george\n",
            "address_1 : None\n",
            "address_2 : greenslopes\n",
            "suburb : ped\n",
            "postcode : 6023\n",
            "state : nss\n",
            "date_of_birth : None\n",
            "soc_sec_id : 5060233\n",
            "\n",
            "5/10 positive, 7/10 negative\n",
            "Do these records refer to the same thing?\n",
            "(y)es / (n)o / (u)nsure / (f)inished / (p)revious\n"
          ]
        },
        {
          "name": "stdout",
          "output_type": "stream",
          "text": [
            "n\n"
          ]
        },
        {
          "output_type": "stream",
          "name": "stderr",
          "text": [
            "first_name : joel\n",
            "surname : thorpe\n",
            "address_1 : pudney street\n",
            "address_2 : None\n",
            "suburb : cremorne\n",
            "postcode : 3068\n",
            "state : nsw\n",
            "date_of_birth : 11/17/19\n",
            "soc_sec_id : 2875552\n",
            "\n",
            "first_name : zara\n",
            "surname : humpcys\n",
            "address_1 : None\n",
            "address_2 : southern wood\n",
            "suburb : corowa\n",
            "postcode : 5095\n",
            "state : qld\n",
            "date_of_birth : None\n",
            "soc_sec_id : 7393243\n",
            "\n",
            "5/10 positive, 8/10 negative\n",
            "Do these records refer to the same thing?\n",
            "(y)es / (n)o / (u)nsure / (f)inished / (p)revious\n"
          ]
        },
        {
          "name": "stdout",
          "output_type": "stream",
          "text": [
            "n\n"
          ]
        },
        {
          "output_type": "stream",
          "name": "stderr",
          "text": [
            "first_name : jye\n",
            "surname : trainor\n",
            "address_1 : summerland circuit\n",
            "address_2 : None\n",
            "suburb : coldstream\n",
            "postcode : 2615\n",
            "state : nsw\n",
            "date_of_birth : 08/28/39\n",
            "soc_sec_id : 4573801\n",
            "\n",
            "first_name : jye\n",
            "surname : trainor\n",
            "address_1 : summerland circuit\n",
            "address_2 : None\n",
            "suburb : coldstream\n",
            "postcode : 2615\n",
            "state : nsw\n",
            "date_of_birth : 09/28/39\n",
            "soc_sec_id : 4573803\n",
            "\n",
            "5/10 positive, 9/10 negative\n",
            "Do these records refer to the same thing?\n",
            "(y)es / (n)o / (u)nsure / (f)inished / (p)revious\n"
          ]
        },
        {
          "name": "stdout",
          "output_type": "stream",
          "text": [
            "y\n"
          ]
        },
        {
          "output_type": "stream",
          "name": "stderr",
          "text": [
            "first_name : logan\n",
            "surname : mac onochie\n",
            "address_1 : mackellar crescent\n",
            "address_2 : None\n",
            "suburb : oatlands\n",
            "postcode : 4207\n",
            "state : vic\n",
            "date_of_birth : 08/13/84\n",
            "soc_sec_id : 4647965\n",
            "\n",
            "first_name : logt\n",
            "surname : mac onochie\n",
            "address_1 : None\n",
            "address_2 : None\n",
            "suburb : oatlands\n",
            "postcode : 4207\n",
            "state : vic\n",
            "date_of_birth : None\n",
            "soc_sec_id : 4648775\n",
            "\n",
            "6/10 positive, 9/10 negative\n",
            "Do these records refer to the same thing?\n",
            "(y)es / (n)o / (u)nsure / (f)inished / (p)revious\n"
          ]
        },
        {
          "name": "stdout",
          "output_type": "stream",
          "text": [
            "f\n"
          ]
        },
        {
          "output_type": "stream",
          "name": "stderr",
          "text": [
            "Finished labeling\n",
            "INFO:dedupe.training:Final predicate set:\n",
            "INFO:dedupe.training:SimplePredicate: (firstTwoTokensPredicate, address_1)\n",
            "INFO:dedupe.training:SimplePredicate: (wholeFieldPredicate, date_of_birth)\n"
          ]
        }
      ]
    },
    {
      "cell_type": "code",
      "source": [
        "%%time\n",
        "linker.train()"
      ],
      "metadata": {
        "colab": {
          "base_uri": "https://localhost:8080/"
        },
        "id": "gW9kkplmbwod",
        "outputId": "59c57aad-5b14-45b4-90ad-12dfbab05c5e"
      },
      "execution_count": 12,
      "outputs": [
        {
          "output_type": "stream",
          "name": "stderr",
          "text": [
            "INFO:rlr.crossvalidation:using cross validation to find optimum alpha...\n",
            "INFO:rlr.crossvalidation:optimum alpha: 0.000010, score 0.45942743587055035\n",
            "INFO:dedupe.training:Final predicate set:\n",
            "INFO:dedupe.training:(SimplePredicate: (wholeFieldPredicate, suburb), SimplePredicate: (wholeFieldPredicate, postcode))\n",
            "INFO:dedupe.training:(SimplePredicate: (wholeFieldPredicate, address_2), SimplePredicate: (fingerprint, address_1), PartialIndexTfidfNGramSearchPredicate: (0.4, surname, Surname))\n"
          ]
        },
        {
          "output_type": "stream",
          "name": "stdout",
          "text": [
            "CPU times: user 4.07 s, sys: 477 ms, total: 4.55 s\n",
            "Wall time: 4.09 s\n"
          ]
        }
      ]
    },
    {
      "cell_type": "code",
      "source": [
        "ACTIVE_LEARNING_DIR = WORKING_DIR / \"dedupe_active_learning\"\n",
        "ACTIVE_LEARNING_DIR.mkdir(parents=True, exist_ok=True)\n",
        "\n",
        "SETTINGS_FILE = ACTIVE_LEARNING_DIR / \"dedupe_learned_settings\"\n",
        "TRAINING_FILE = ACTIVE_LEARNING_DIR / \"dedupe_training.json\"\n",
        "\n",
        "with open(TRAINING_FILE, \"w\") as fh:\n",
        "    linker.write_training(fh)\n",
        "    \n",
        "with open(SETTINGS_FILE, \"wb\") as sf:\n",
        "    linker.write_settings(sf)"
      ],
      "metadata": {
        "id": "5rTZr1mCbwk7"
      },
      "execution_count": 13,
      "outputs": []
    },
    {
      "cell_type": "code",
      "source": [
        "linker.predicates"
      ],
      "metadata": {
        "colab": {
          "base_uri": "https://localhost:8080/"
        },
        "id": "Z9bif08lbwi_",
        "outputId": "b4c5b4ad-2430-4e56-f91c-ee6039f89672"
      },
      "execution_count": 14,
      "outputs": [
        {
          "output_type": "execute_result",
          "data": {
            "text/plain": [
              "((SimplePredicate: (wholeFieldPredicate, suburb),\n",
              "  SimplePredicate: (wholeFieldPredicate, postcode)),\n",
              " (SimplePredicate: (wholeFieldPredicate, address_2),\n",
              "  SimplePredicate: (fingerprint, address_1),\n",
              "  PartialIndexTfidfNGramSearchPredicate: (0.4, surname, Surname)))"
            ]
          },
          "metadata": {},
          "execution_count": 14
        }
      ]
    },
    {
      "cell_type": "code",
      "source": [
        "candidate_pairs = [x for x in linker.pairs(records_A, records_B)]\n",
        "print(f\"{len(candidate_pairs):,} candidate pairs generated from blocking.\")"
      ],
      "metadata": {
        "colab": {
          "base_uri": "https://localhost:8080/"
        },
        "id": "wD-7xSV2b0T5",
        "outputId": "eb57ab37-92c7-4020-ab3d-6f73cfcd5de3"
      },
      "execution_count": 15,
      "outputs": [
        {
          "output_type": "stream",
          "name": "stdout",
          "text": [
            "1,778 candidate pairs generated from blocking.\n"
          ]
        }
      ]
    },
    {
      "cell_type": "code",
      "source": [
        "candidate_pairs[0]"
      ],
      "metadata": {
        "colab": {
          "base_uri": "https://localhost:8080/"
        },
        "id": "o6fJbjgzb1Kh",
        "outputId": "4fc9a762-d503-42ea-917c-4a6a66d70e0c"
      },
      "execution_count": 16,
      "outputs": [
        {
          "output_type": "execute_result",
          "data": {
            "text/plain": [
              "(('48a56cad-7ba6-45e1-97cd-517ba65bdab5',\n",
              "  {'address_1': 'kambalda crescent',\n",
              "   'address_2': 'villa 427',\n",
              "   'age': '27',\n",
              "   'date_of_birth': '01/08/26',\n",
              "   'first_name': 'lachlan',\n",
              "   'phone_number': None,\n",
              "   'postcode': '5109',\n",
              "   'soc_sec_id': '9937958',\n",
              "   'state': None,\n",
              "   'street_number': '36',\n",
              "   'suburb': 'auburn',\n",
              "   'surname': 'eglinton'}),\n",
              " ('c77c2c04-4415-4c4d-b248-18dc28fd63d0',\n",
              "  {'address_1': 'kambalda crescent',\n",
              "   'address_2': None,\n",
              "   'age': None,\n",
              "   'date_of_birth': '01/08/26',\n",
              "   'first_name': 'lachlan',\n",
              "   'phone_number': None,\n",
              "   'postcode': '5109',\n",
              "   'soc_sec_id': '9937958',\n",
              "   'state': None,\n",
              "   'street_number': '366',\n",
              "   'suburb': 'auburn',\n",
              "   'surname': 'eglinton'}))"
            ]
          },
          "metadata": {},
          "execution_count": 16
        }
      ]
    },
    {
      "cell_type": "code",
      "source": [
        "df_candidate_links = pd.DataFrame(\n",
        "    [(x[0][0], x[1][0]) for x in candidate_pairs]\n",
        ").rename(columns={0 : \"person_id_A\", 1 : \"person_id_B\"}).set_index([\"person_id_A\", \"person_id_B\"])\n",
        "\n",
        "df_candidate_links.head()"
      ],
      "metadata": {
        "colab": {
          "base_uri": "https://localhost:8080/",
          "height": 220
        },
        "id": "jp4kTKFzb2Xe",
        "outputId": "cb5ccbad-d48a-4565-dcad-3f9513ddbd9d"
      },
      "execution_count": 17,
      "outputs": [
        {
          "output_type": "execute_result",
          "data": {
            "text/html": [
              "<div>\n",
              "<style scoped>\n",
              "    .dataframe tbody tr th:only-of-type {\n",
              "        vertical-align: middle;\n",
              "    }\n",
              "\n",
              "    .dataframe tbody tr th {\n",
              "        vertical-align: top;\n",
              "    }\n",
              "\n",
              "    .dataframe thead th {\n",
              "        text-align: right;\n",
              "    }\n",
              "</style>\n",
              "<table border=\"1\" class=\"dataframe\">\n",
              "  <thead>\n",
              "    <tr style=\"text-align: right;\">\n",
              "      <th></th>\n",
              "      <th></th>\n",
              "    </tr>\n",
              "    <tr>\n",
              "      <th>person_id_A</th>\n",
              "      <th>person_id_B</th>\n",
              "    </tr>\n",
              "  </thead>\n",
              "  <tbody>\n",
              "    <tr>\n",
              "      <th>48a56cad-7ba6-45e1-97cd-517ba65bdab5</th>\n",
              "      <th>c77c2c04-4415-4c4d-b248-18dc28fd63d0</th>\n",
              "    </tr>\n",
              "    <tr>\n",
              "      <th>b4e3efc2-9c8f-4e3e-8b98-9bfa842094f9</th>\n",
              "      <th>e63f19ca-3f5b-4021-ac1e-05fc7495bd48</th>\n",
              "    </tr>\n",
              "    <tr>\n",
              "      <th>050a4ce1-8fc9-410d-bae1-65a70a518e34</th>\n",
              "      <th>e36dc4e4-c33c-4021-9dba-ceed3a4956d7</th>\n",
              "    </tr>\n",
              "    <tr>\n",
              "      <th>7264bfb0-bbcb-4f68-b9bf-03619237cfb2</th>\n",
              "      <th>8e5d98b8-9611-480e-8c65-b0e56520307b</th>\n",
              "    </tr>\n",
              "    <tr>\n",
              "      <th>67f406b1-ddbe-4dff-b725-f6653f8af0a6</th>\n",
              "      <th>97bbf64b-d893-4af2-91d8-86215fe0a4f7</th>\n",
              "    </tr>\n",
              "  </tbody>\n",
              "</table>\n",
              "</div>"
            ],
            "text/plain": [
              "Empty DataFrame\n",
              "Columns: []\n",
              "Index: [(48a56cad-7ba6-45e1-97cd-517ba65bdab5, c77c2c04-4415-4c4d-b248-18dc28fd63d0), (b4e3efc2-9c8f-4e3e-8b98-9bfa842094f9, e63f19ca-3f5b-4021-ac1e-05fc7495bd48), (050a4ce1-8fc9-410d-bae1-65a70a518e34, e36dc4e4-c33c-4021-9dba-ceed3a4956d7), (7264bfb0-bbcb-4f68-b9bf-03619237cfb2, 8e5d98b8-9611-480e-8c65-b0e56520307b), (67f406b1-ddbe-4dff-b725-f6653f8af0a6, 97bbf64b-d893-4af2-91d8-86215fe0a4f7)]"
            ]
          },
          "metadata": {},
          "execution_count": 17
        }
      ]
    },
    {
      "cell_type": "code",
      "source": [
        "max_candidate_pairs = df_A.shape[0]*df_B.shape[0]\n",
        "\n",
        "print(f\"{max_candidate_pairs:,} total possible pairs.\")\n",
        "\n",
        "# Calculate search space reduction.\n",
        "search_space_reduction = round(1 - len(candidate_pairs)/max_candidate_pairs, 6)\n",
        "print(f\"\\n{len(candidate_pairs):,} pairs after full blocking: {search_space_reduction}% search space reduction.\")\n",
        "\n",
        "# Calculate retained true links percentage.\n",
        "total_true_links = df_ground_truth.shape[0]\n",
        "true_links_after_blocking = pd.merge(\n",
        "    df_ground_truth,\n",
        "    df_candidate_links,\n",
        "    left_index=True,\n",
        "    right_index=True,\n",
        "    how=\"inner\"\n",
        ").shape[0]\n",
        "\n",
        "retained_true_link_percent = round((true_links_after_blocking/total_true_links) * 100, 2)\n",
        "print(f\"{retained_true_link_percent}% true links retained after blocking.\")"
      ],
      "metadata": {
        "colab": {
          "base_uri": "https://localhost:8080/"
        },
        "id": "lW8izL07b3ks",
        "outputId": "35952fb0-670c-4941-dabe-e67dfc1f852d"
      },
      "execution_count": 18,
      "outputs": [
        {
          "output_type": "stream",
          "name": "stdout",
          "text": [
            "10,562,500 total possible pairs.\n",
            "\n",
            "1,778 pairs after full blocking: 0.999832% search space reduction.\n",
            "58.93% true links retained after blocking.\n"
          ]
        }
      ]
    },
    {
      "cell_type": "code",
      "source": [
        "%%time\n",
        "linked_records = linker.join(records_A, records_B, threshold=0.0, constraint=\"one-to-one\")"
      ],
      "metadata": {
        "colab": {
          "base_uri": "https://localhost:8080/"
        },
        "id": "lUDZ_jSLb44w",
        "outputId": "c69304c0-48c2-444a-98a4-21b5b04c0cf5"
      },
      "execution_count": 19,
      "outputs": [
        {
          "output_type": "stream",
          "name": "stdout",
          "text": [
            "CPU times: user 312 ms, sys: 58.7 ms, total: 371 ms\n",
            "Wall time: 1.35 s\n"
          ]
        }
      ]
    },
    {
      "cell_type": "code",
      "source": [
        "linked_records[0:3]"
      ],
      "metadata": {
        "colab": {
          "base_uri": "https://localhost:8080/"
        },
        "id": "qQe6lNaob54H",
        "outputId": "68e1c0e0-bff9-469f-bf93-e920c16d78dd"
      },
      "execution_count": 20,
      "outputs": [
        {
          "output_type": "execute_result",
          "data": {
            "text/plain": [
              "[(('ff64e7b6-7a23-45d2-abfd-df84b7dfe02a',\n",
              "   'e44731a3-6d4d-4d1e-8466-57aef723dcdc'),\n",
              "  1.0),\n",
              " (('fe7dcaf6-3a4d-456d-8ac1-2b81875158bc',\n",
              "   'eb827aae-7870-4a7a-8dc4-f5e755ae19b6'),\n",
              "  1.0),\n",
              " (('fc8bd23d-afdf-4a67-81d8-31fafe560c76',\n",
              "   '241eb6d8-c988-4838-96e3-1fff5e778bd4'),\n",
              "  1.0)]"
            ]
          },
          "metadata": {},
          "execution_count": 20
        }
      ]
    },
    {
      "cell_type": "code",
      "source": [
        "df_predictions = pd.DataFrame(\n",
        "    [ {\"person_id_A\" : x[0][0], \"person_id_B\" : x[0][1], \"model_score\" : x[1]} for x in linked_records]\n",
        ")\n",
        "\n",
        "df_predictions = df_predictions.set_index([\"person_id_A\", \"person_id_B\"])\n",
        "\n",
        "df_predictions = pd.merge(\n",
        "    df_predictions,\n",
        "    df_ground_truth,\n",
        "    left_index=True,\n",
        "    right_index=True,\n",
        "    how=\"left\",\n",
        ")\n",
        "\n",
        "df_predictions[\"ground_truth\"].fillna(False, inplace=True)\n",
        "df_predictions"
      ],
      "metadata": {
        "colab": {
          "base_uri": "https://localhost:8080/",
          "height": 455
        },
        "id": "DHPXkALib5zP",
        "outputId": "82693014-911a-41a7-f0be-7461fa8ec806"
      },
      "execution_count": 21,
      "outputs": [
        {
          "output_type": "execute_result",
          "data": {
            "text/html": [
              "<div>\n",
              "<style scoped>\n",
              "    .dataframe tbody tr th:only-of-type {\n",
              "        vertical-align: middle;\n",
              "    }\n",
              "\n",
              "    .dataframe tbody tr th {\n",
              "        vertical-align: top;\n",
              "    }\n",
              "\n",
              "    .dataframe thead th {\n",
              "        text-align: right;\n",
              "    }\n",
              "</style>\n",
              "<table border=\"1\" class=\"dataframe\">\n",
              "  <thead>\n",
              "    <tr style=\"text-align: right;\">\n",
              "      <th></th>\n",
              "      <th></th>\n",
              "      <th>model_score</th>\n",
              "      <th>ground_truth</th>\n",
              "    </tr>\n",
              "    <tr>\n",
              "      <th>person_id_A</th>\n",
              "      <th>person_id_B</th>\n",
              "      <th></th>\n",
              "      <th></th>\n",
              "    </tr>\n",
              "  </thead>\n",
              "  <tbody>\n",
              "    <tr>\n",
              "      <th>ff64e7b6-7a23-45d2-abfd-df84b7dfe02a</th>\n",
              "      <th>e44731a3-6d4d-4d1e-8466-57aef723dcdc</th>\n",
              "      <td>1.000000</td>\n",
              "      <td>True</td>\n",
              "    </tr>\n",
              "    <tr>\n",
              "      <th>fe7dcaf6-3a4d-456d-8ac1-2b81875158bc</th>\n",
              "      <th>eb827aae-7870-4a7a-8dc4-f5e755ae19b6</th>\n",
              "      <td>1.000000</td>\n",
              "      <td>True</td>\n",
              "    </tr>\n",
              "    <tr>\n",
              "      <th>fc8bd23d-afdf-4a67-81d8-31fafe560c76</th>\n",
              "      <th>241eb6d8-c988-4838-96e3-1fff5e778bd4</th>\n",
              "      <td>1.000000</td>\n",
              "      <td>True</td>\n",
              "    </tr>\n",
              "    <tr>\n",
              "      <th>fc7ce04c-b9de-428b-83c2-80219ad8c4d3</th>\n",
              "      <th>d0e57003-6a0f-4e51-9cff-0e60927e0611</th>\n",
              "      <td>1.000000</td>\n",
              "      <td>True</td>\n",
              "    </tr>\n",
              "    <tr>\n",
              "      <th>fc041887-b5b8-427b-ac8b-bd867d0c813f</th>\n",
              "      <th>f93ba54b-0c5c-400d-89e8-1fe6746bf928</th>\n",
              "      <td>1.000000</td>\n",
              "      <td>True</td>\n",
              "    </tr>\n",
              "    <tr>\n",
              "      <th>...</th>\n",
              "      <th>...</th>\n",
              "      <td>...</td>\n",
              "      <td>...</td>\n",
              "    </tr>\n",
              "    <tr>\n",
              "      <th>357f0731-043e-4fe6-a5e9-cd65cdc063f0</th>\n",
              "      <th>922ae285-bfc7-463a-ac75-dda307b09ac5</th>\n",
              "      <td>0.000057</td>\n",
              "      <td>True</td>\n",
              "    </tr>\n",
              "    <tr>\n",
              "      <th>6a85e26a-a969-43d3-b142-d635593f091a</th>\n",
              "      <th>4016047d-6a37-48c2-8549-0aa0b5f8a78a</th>\n",
              "      <td>0.000046</td>\n",
              "      <td>True</td>\n",
              "    </tr>\n",
              "    <tr>\n",
              "      <th>e6be8689-4229-44f6-8399-4e58e0b159cd</th>\n",
              "      <th>326d11f5-1ae2-4d68-8ce7-0258b6576c05</th>\n",
              "      <td>0.000045</td>\n",
              "      <td>True</td>\n",
              "    </tr>\n",
              "    <tr>\n",
              "      <th>b6023bca-3d6f-453b-9766-703b73c47c95</th>\n",
              "      <th>3ee20cf3-93ad-412d-836d-9ef80bf373f4</th>\n",
              "      <td>0.000036</td>\n",
              "      <td>True</td>\n",
              "    </tr>\n",
              "    <tr>\n",
              "      <th>4c95db01-5e53-497a-a07d-96020ad4bec9</th>\n",
              "      <th>c61ad9c4-acaf-440e-89d0-d7506019f529</th>\n",
              "      <td>0.000002</td>\n",
              "      <td>True</td>\n",
              "    </tr>\n",
              "  </tbody>\n",
              "</table>\n",
              "<p>1768 rows × 2 columns</p>\n",
              "</div>"
            ],
            "text/plain": [
              "                                                                           model_score  ground_truth\n",
              "person_id_A                          person_id_B                                                    \n",
              "ff64e7b6-7a23-45d2-abfd-df84b7dfe02a e44731a3-6d4d-4d1e-8466-57aef723dcdc     1.000000          True\n",
              "fe7dcaf6-3a4d-456d-8ac1-2b81875158bc eb827aae-7870-4a7a-8dc4-f5e755ae19b6     1.000000          True\n",
              "fc8bd23d-afdf-4a67-81d8-31fafe560c76 241eb6d8-c988-4838-96e3-1fff5e778bd4     1.000000          True\n",
              "fc7ce04c-b9de-428b-83c2-80219ad8c4d3 d0e57003-6a0f-4e51-9cff-0e60927e0611     1.000000          True\n",
              "fc041887-b5b8-427b-ac8b-bd867d0c813f f93ba54b-0c5c-400d-89e8-1fe6746bf928     1.000000          True\n",
              "...                                                                                ...           ...\n",
              "357f0731-043e-4fe6-a5e9-cd65cdc063f0 922ae285-bfc7-463a-ac75-dda307b09ac5     0.000057          True\n",
              "6a85e26a-a969-43d3-b142-d635593f091a 4016047d-6a37-48c2-8549-0aa0b5f8a78a     0.000046          True\n",
              "e6be8689-4229-44f6-8399-4e58e0b159cd 326d11f5-1ae2-4d68-8ce7-0258b6576c05     0.000045          True\n",
              "b6023bca-3d6f-453b-9766-703b73c47c95 3ee20cf3-93ad-412d-836d-9ef80bf373f4     0.000036          True\n",
              "4c95db01-5e53-497a-a07d-96020ad4bec9 c61ad9c4-acaf-440e-89d0-d7506019f529     0.000002          True\n",
              "\n",
              "[1768 rows x 2 columns]"
            ]
          },
          "metadata": {},
          "execution_count": 21
        }
      ]
    },
    {
      "cell_type": "code",
      "source": [
        "df_predictions[\"ground_truth\"].value_counts()"
      ],
      "metadata": {
        "colab": {
          "base_uri": "https://localhost:8080/"
        },
        "id": "lf_Ns4FLb7g3",
        "outputId": "32892218-0c84-4cb3-f182-ca12e7b24e74"
      },
      "execution_count": 22,
      "outputs": [
        {
          "output_type": "execute_result",
          "data": {
            "text/plain": [
              "True     1761\n",
              "False       7\n",
              "Name: ground_truth, dtype: int64"
            ]
          },
          "metadata": {},
          "execution_count": 22
        }
      ]
    },
    {
      "cell_type": "code",
      "source": [
        "tutorial.plot_model_score_distribution(df_predictions)"
      ],
      "metadata": {
        "colab": {
          "base_uri": "https://localhost:8080/",
          "height": 503
        },
        "id": "p5pRea4rb7fC",
        "outputId": "95f9c45e-939d-4563-ebc2-2568c923a67f"
      },
      "execution_count": 23,
      "outputs": [
        {
          "output_type": "stream",
          "name": "stderr",
          "text": [
            "INFO:numexpr.utils:NumExpr defaulting to 2 threads.\n"
          ]
        },
        {
          "output_type": "execute_result",
          "data": {
            "text/plain": [
              "alt.Chart(...)"
            ],
            "text/html": [
              "\n",
              "<div id=\"altair-viz-51141079581245a4a29664975fe6bbf9\"></div>\n",
              "<script type=\"text/javascript\">\n",
              "  (function(spec, embedOpt){\n",
              "    let outputDiv = document.currentScript.previousElementSibling;\n",
              "    if (outputDiv.id !== \"altair-viz-51141079581245a4a29664975fe6bbf9\") {\n",
              "      outputDiv = document.getElementById(\"altair-viz-51141079581245a4a29664975fe6bbf9\");\n",
              "    }\n",
              "    const paths = {\n",
              "      \"vega\": \"https://cdn.jsdelivr.net/npm//vega@5?noext\",\n",
              "      \"vega-lib\": \"https://cdn.jsdelivr.net/npm//vega-lib?noext\",\n",
              "      \"vega-lite\": \"https://cdn.jsdelivr.net/npm//vega-lite@4.8.1?noext\",\n",
              "      \"vega-embed\": \"https://cdn.jsdelivr.net/npm//vega-embed@6?noext\",\n",
              "    };\n",
              "\n",
              "    function loadScript(lib) {\n",
              "      return new Promise(function(resolve, reject) {\n",
              "        var s = document.createElement('script');\n",
              "        s.src = paths[lib];\n",
              "        s.async = true;\n",
              "        s.onload = () => resolve(paths[lib]);\n",
              "        s.onerror = () => reject(`Error loading script: ${paths[lib]}`);\n",
              "        document.getElementsByTagName(\"head\")[0].appendChild(s);\n",
              "      });\n",
              "    }\n",
              "\n",
              "    function showError(err) {\n",
              "      outputDiv.innerHTML = `<div class=\"error\" style=\"color:red;\">${err}</div>`;\n",
              "      throw err;\n",
              "    }\n",
              "\n",
              "    function displayChart(vegaEmbed) {\n",
              "      vegaEmbed(outputDiv, spec, embedOpt)\n",
              "        .catch(err => showError(`Javascript Error: ${err.message}<br>This usually means there's a typo in your chart specification. See the javascript console for the full traceback.`));\n",
              "    }\n",
              "\n",
              "    if(typeof define === \"function\" && define.amd) {\n",
              "      requirejs.config({paths});\n",
              "      require([\"vega-embed\"], displayChart, err => showError(`Error loading script: ${err.message}`));\n",
              "    } else if (typeof vegaEmbed === \"function\") {\n",
              "      displayChart(vegaEmbed);\n",
              "    } else {\n",
              "      loadScript(\"vega\")\n",
              "        .then(() => loadScript(\"vega-lite\"))\n",
              "        .then(() => loadScript(\"vega-embed\"))\n",
              "        .catch(showError)\n",
              "        .then(() => displayChart(vegaEmbed));\n",
              "    }\n",
              "  })({\"config\": {\"view\": {\"continuousWidth\": 400, \"continuousHeight\": 300}}, \"data\": {\"name\": \"data-b917ae68417b4dc9329f8be9b440db2c\"}, \"mark\": {\"type\": \"bar\", \"binSpacing\": 0, \"opacity\": 0.7}, \"encoding\": {\"color\": {\"type\": \"nominal\", \"field\": \"ground_truth\", \"legend\": {\"title\": \"Ground Truth Label\"}, \"scale\": {\"domain\": [\"True Link\", \"Not a Link\"], \"scheme\": \"tableau10\"}}, \"opacity\": {\"condition\": {\"value\": 0.7, \"selection\": \"selector001\"}, \"value\": 0.2}, \"tooltip\": [{\"type\": \"quantitative\", \"field\": \"model_score\", \"title\": \"Model Score\"}, {\"type\": \"nominal\", \"field\": \"ground_truth\", \"title\": \"Ground Truth\"}, {\"type\": \"quantitative\", \"field\": \"count\", \"title\": \"Count of Links\"}], \"x\": {\"type\": \"quantitative\", \"axis\": {\"tickCount\": 5, \"title\": \"Model Score (Binned)\"}, \"bin\": {\"extent\": [0, 1], \"step\": 0.01}, \"field\": \"model_score\"}, \"y\": {\"type\": \"quantitative\", \"axis\": {\"title\": \"Count of Links\"}, \"field\": \"count\", \"stack\": null}}, \"height\": 400, \"selection\": {\"selector001\": {\"type\": \"multi\", \"fields\": [\"ground_truth\"], \"bind\": \"legend\"}, \"selector002\": {\"type\": \"interval\", \"bind\": \"scales\", \"encodings\": [\"x\", \"y\"]}}, \"title\": \"Model Score Distribution\", \"width\": 800, \"$schema\": \"https://vega.github.io/schema/vega-lite/v4.8.1.json\", \"datasets\": {\"data-b917ae68417b4dc9329f8be9b440db2c\": [{\"model_score\": 0.0, \"ground_truth\": \"True Link\", \"count\": 22}, {\"model_score\": 0.01, \"ground_truth\": \"True Link\", \"count\": 4}, {\"model_score\": 0.02, \"ground_truth\": \"True Link\", \"count\": 5}, {\"model_score\": 0.03, \"ground_truth\": \"True Link\", \"count\": 8}, {\"model_score\": 0.04, \"ground_truth\": \"True Link\", \"count\": 4}, {\"model_score\": 0.05, \"ground_truth\": \"True Link\", \"count\": 2}, {\"model_score\": 0.06, \"ground_truth\": \"True Link\", \"count\": 1}, {\"model_score\": 0.07, \"ground_truth\": \"True Link\", \"count\": 2}, {\"model_score\": 0.08, \"ground_truth\": \"True Link\", \"count\": 1}, {\"model_score\": 0.09, \"ground_truth\": \"True Link\", \"count\": 3}, {\"model_score\": 0.1, \"ground_truth\": \"True Link\", \"count\": 1}, {\"model_score\": 0.11, \"ground_truth\": \"True Link\", \"count\": 4}, {\"model_score\": 0.12, \"ground_truth\": \"True Link\", \"count\": 2}, {\"model_score\": 0.14, \"ground_truth\": \"True Link\", \"count\": 2}, {\"model_score\": 0.15, \"ground_truth\": \"True Link\", \"count\": 2}, {\"model_score\": 0.16, \"ground_truth\": \"True Link\", \"count\": 1}, {\"model_score\": 0.17, \"ground_truth\": \"True Link\", \"count\": 1}, {\"model_score\": 0.18, \"ground_truth\": \"True Link\", \"count\": 3}, {\"model_score\": 0.19, \"ground_truth\": \"True Link\", \"count\": 1}, {\"model_score\": 0.2, \"ground_truth\": \"True Link\", \"count\": 1}, {\"model_score\": 0.21, \"ground_truth\": \"True Link\", \"count\": 2}, {\"model_score\": 0.23, \"ground_truth\": \"True Link\", \"count\": 2}, {\"model_score\": 0.24, \"ground_truth\": \"True Link\", \"count\": 2}, {\"model_score\": 0.25, \"ground_truth\": \"True Link\", \"count\": 1}, {\"model_score\": 0.28, \"ground_truth\": \"True Link\", \"count\": 1}, {\"model_score\": 0.29, \"ground_truth\": \"True Link\", \"count\": 2}, {\"model_score\": 0.3, \"ground_truth\": \"True Link\", \"count\": 1}, {\"model_score\": 0.32, \"ground_truth\": \"True Link\", \"count\": 3}, {\"model_score\": 0.34, \"ground_truth\": \"True Link\", \"count\": 3}, {\"model_score\": 0.35, \"ground_truth\": \"True Link\", \"count\": 1}, {\"model_score\": 0.36, \"ground_truth\": \"True Link\", \"count\": 2}, {\"model_score\": 0.38, \"ground_truth\": \"True Link\", \"count\": 1}, {\"model_score\": 0.4, \"ground_truth\": \"True Link\", \"count\": 2}, {\"model_score\": 0.45, \"ground_truth\": \"True Link\", \"count\": 1}, {\"model_score\": 0.46, \"ground_truth\": \"True Link\", \"count\": 1}, {\"model_score\": 0.48, \"ground_truth\": \"True Link\", \"count\": 1}, {\"model_score\": 0.5, \"ground_truth\": \"True Link\", \"count\": 4}, {\"model_score\": 0.51, \"ground_truth\": \"True Link\", \"count\": 2}, {\"model_score\": 0.52, \"ground_truth\": \"True Link\", \"count\": 3}, {\"model_score\": 0.54, \"ground_truth\": \"True Link\", \"count\": 1}, {\"model_score\": 0.55, \"ground_truth\": \"True Link\", \"count\": 1}, {\"model_score\": 0.58, \"ground_truth\": \"True Link\", \"count\": 2}, {\"model_score\": 0.59, \"ground_truth\": \"True Link\", \"count\": 1}, {\"model_score\": 0.6, \"ground_truth\": \"True Link\", \"count\": 3}, {\"model_score\": 0.62, \"ground_truth\": \"True Link\", \"count\": 2}, {\"model_score\": 0.63, \"ground_truth\": \"True Link\", \"count\": 1}, {\"model_score\": 0.64, \"ground_truth\": \"True Link\", \"count\": 3}, {\"model_score\": 0.65, \"ground_truth\": \"True Link\", \"count\": 3}, {\"model_score\": 0.66, \"ground_truth\": \"True Link\", \"count\": 2}, {\"model_score\": 0.67, \"ground_truth\": \"True Link\", \"count\": 2}, {\"model_score\": 0.7, \"ground_truth\": \"True Link\", \"count\": 1}, {\"model_score\": 0.71, \"ground_truth\": \"True Link\", \"count\": 1}, {\"model_score\": 0.72, \"ground_truth\": \"True Link\", \"count\": 1}, {\"model_score\": 0.73, \"ground_truth\": \"True Link\", \"count\": 1}, {\"model_score\": 0.74, \"ground_truth\": \"True Link\", \"count\": 1}, {\"model_score\": 0.75, \"ground_truth\": \"True Link\", \"count\": 5}, {\"model_score\": 0.76, \"ground_truth\": \"True Link\", \"count\": 1}, {\"model_score\": 0.77, \"ground_truth\": \"True Link\", \"count\": 1}, {\"model_score\": 0.79, \"ground_truth\": \"True Link\", \"count\": 4}, {\"model_score\": 0.8, \"ground_truth\": \"True Link\", \"count\": 3}, {\"model_score\": 0.81, \"ground_truth\": \"True Link\", \"count\": 5}, {\"model_score\": 0.82, \"ground_truth\": \"True Link\", \"count\": 1}, {\"model_score\": 0.83, \"ground_truth\": \"True Link\", \"count\": 2}, {\"model_score\": 0.84, \"ground_truth\": \"True Link\", \"count\": 3}, {\"model_score\": 0.85, \"ground_truth\": \"True Link\", \"count\": 1}, {\"model_score\": 0.86, \"ground_truth\": \"True Link\", \"count\": 1}, {\"model_score\": 0.87, \"ground_truth\": \"True Link\", \"count\": 3}, {\"model_score\": 0.88, \"ground_truth\": \"True Link\", \"count\": 4}, {\"model_score\": 0.89, \"ground_truth\": \"True Link\", \"count\": 2}, {\"model_score\": 0.9, \"ground_truth\": \"True Link\", \"count\": 1}, {\"model_score\": 0.91, \"ground_truth\": \"True Link\", \"count\": 6}, {\"model_score\": 0.92, \"ground_truth\": \"True Link\", \"count\": 9}, {\"model_score\": 0.93, \"ground_truth\": \"True Link\", \"count\": 6}, {\"model_score\": 0.94, \"ground_truth\": \"True Link\", \"count\": 3}, {\"model_score\": 0.95, \"ground_truth\": \"True Link\", \"count\": 22}, {\"model_score\": 0.96, \"ground_truth\": \"True Link\", \"count\": 16}, {\"model_score\": 0.97, \"ground_truth\": \"True Link\", \"count\": 18}, {\"model_score\": 0.98, \"ground_truth\": \"True Link\", \"count\": 21}, {\"model_score\": 0.99, \"ground_truth\": \"True Link\", \"count\": 82}, {\"model_score\": 1.0, \"ground_truth\": \"Not a Link\", \"count\": 7}, {\"model_score\": 1.0, \"ground_truth\": \"True Link\", \"count\": 1410}]}}, {\"mode\": \"vega-lite\"});\n",
              "</script>"
            ]
          },
          "metadata": {},
          "execution_count": 23
        }
      ]
    },
    {
      "cell_type": "code",
      "source": [
        "df_eval = tutorial.evaluate_linking(\n",
        "    df=df_predictions\n",
        ")"
      ],
      "metadata": {
        "id": "bitcs1Fqb7c_"
      },
      "execution_count": 24,
      "outputs": []
    },
    {
      "cell_type": "code",
      "source": [
        "df_eval.head()"
      ],
      "metadata": {
        "colab": {
          "base_uri": "https://localhost:8080/",
          "height": 206
        },
        "id": "ruAne9zVb7Z_",
        "outputId": "336fab15-a9c2-46a2-a477-75f6bef9a786"
      },
      "execution_count": 25,
      "outputs": [
        {
          "output_type": "execute_result",
          "data": {
            "text/html": [
              "<div>\n",
              "<style scoped>\n",
              "    .dataframe tbody tr th:only-of-type {\n",
              "        vertical-align: middle;\n",
              "    }\n",
              "\n",
              "    .dataframe tbody tr th {\n",
              "        vertical-align: top;\n",
              "    }\n",
              "\n",
              "    .dataframe thead th {\n",
              "        text-align: right;\n",
              "    }\n",
              "</style>\n",
              "<table border=\"1\" class=\"dataframe\">\n",
              "  <thead>\n",
              "    <tr style=\"text-align: right;\">\n",
              "      <th></th>\n",
              "      <th>threshold</th>\n",
              "      <th>tp</th>\n",
              "      <th>fp</th>\n",
              "      <th>tn</th>\n",
              "      <th>fn</th>\n",
              "      <th>precision</th>\n",
              "      <th>recall</th>\n",
              "      <th>f1</th>\n",
              "    </tr>\n",
              "  </thead>\n",
              "  <tbody>\n",
              "    <tr>\n",
              "      <th>0</th>\n",
              "      <td>0.000000</td>\n",
              "      <td>1761</td>\n",
              "      <td>7</td>\n",
              "      <td>0</td>\n",
              "      <td>0</td>\n",
              "      <td>0.996041</td>\n",
              "      <td>1.000000</td>\n",
              "      <td>0.998016</td>\n",
              "    </tr>\n",
              "    <tr>\n",
              "      <th>1</th>\n",
              "      <td>0.020408</td>\n",
              "      <td>1732</td>\n",
              "      <td>7</td>\n",
              "      <td>0</td>\n",
              "      <td>29</td>\n",
              "      <td>0.995975</td>\n",
              "      <td>0.983532</td>\n",
              "      <td>0.989714</td>\n",
              "    </tr>\n",
              "    <tr>\n",
              "      <th>2</th>\n",
              "      <td>0.040816</td>\n",
              "      <td>1719</td>\n",
              "      <td>7</td>\n",
              "      <td>0</td>\n",
              "      <td>42</td>\n",
              "      <td>0.995944</td>\n",
              "      <td>0.976150</td>\n",
              "      <td>0.985948</td>\n",
              "    </tr>\n",
              "    <tr>\n",
              "      <th>3</th>\n",
              "      <td>0.061224</td>\n",
              "      <td>1715</td>\n",
              "      <td>7</td>\n",
              "      <td>0</td>\n",
              "      <td>46</td>\n",
              "      <td>0.995935</td>\n",
              "      <td>0.973878</td>\n",
              "      <td>0.984783</td>\n",
              "    </tr>\n",
              "    <tr>\n",
              "      <th>4</th>\n",
              "      <td>0.081633</td>\n",
              "      <td>1712</td>\n",
              "      <td>7</td>\n",
              "      <td>0</td>\n",
              "      <td>49</td>\n",
              "      <td>0.995928</td>\n",
              "      <td>0.972175</td>\n",
              "      <td>0.983908</td>\n",
              "    </tr>\n",
              "  </tbody>\n",
              "</table>\n",
              "</div>"
            ],
            "text/plain": [
              "   threshold    tp  fp  tn  fn  precision    recall        f1\n",
              "0   0.000000  1761   7   0   0   0.996041  1.000000  0.998016\n",
              "1   0.020408  1732   7   0  29   0.995975  0.983532  0.989714\n",
              "2   0.040816  1719   7   0  42   0.995944  0.976150  0.985948\n",
              "3   0.061224  1715   7   0  46   0.995935  0.973878  0.984783\n",
              "4   0.081633  1712   7   0  49   0.995928  0.972175  0.983908"
            ]
          },
          "metadata": {},
          "execution_count": 25
        }
      ]
    },
    {
      "cell_type": "code",
      "source": [
        "tutorial.plot_precision_recall_vs_threshold(df_eval)"
      ],
      "metadata": {
        "colab": {
          "base_uri": "https://localhost:8080/",
          "height": 485
        },
        "id": "o-3-RDGQcADo",
        "outputId": "297ef2eb-df9e-4f5d-ab7e-ca7bfd6d21e8"
      },
      "execution_count": 26,
      "outputs": [
        {
          "output_type": "execute_result",
          "data": {
            "text/plain": [
              "alt.LayerChart(...)"
            ],
            "text/html": [
              "\n",
              "<div id=\"altair-viz-e7acbe7a672b4e0d83142f8a870bb8cf\"></div>\n",
              "<script type=\"text/javascript\">\n",
              "  (function(spec, embedOpt){\n",
              "    let outputDiv = document.currentScript.previousElementSibling;\n",
              "    if (outputDiv.id !== \"altair-viz-e7acbe7a672b4e0d83142f8a870bb8cf\") {\n",
              "      outputDiv = document.getElementById(\"altair-viz-e7acbe7a672b4e0d83142f8a870bb8cf\");\n",
              "    }\n",
              "    const paths = {\n",
              "      \"vega\": \"https://cdn.jsdelivr.net/npm//vega@5?noext\",\n",
              "      \"vega-lib\": \"https://cdn.jsdelivr.net/npm//vega-lib?noext\",\n",
              "      \"vega-lite\": \"https://cdn.jsdelivr.net/npm//vega-lite@4.8.1?noext\",\n",
              "      \"vega-embed\": \"https://cdn.jsdelivr.net/npm//vega-embed@6?noext\",\n",
              "    };\n",
              "\n",
              "    function loadScript(lib) {\n",
              "      return new Promise(function(resolve, reject) {\n",
              "        var s = document.createElement('script');\n",
              "        s.src = paths[lib];\n",
              "        s.async = true;\n",
              "        s.onload = () => resolve(paths[lib]);\n",
              "        s.onerror = () => reject(`Error loading script: ${paths[lib]}`);\n",
              "        document.getElementsByTagName(\"head\")[0].appendChild(s);\n",
              "      });\n",
              "    }\n",
              "\n",
              "    function showError(err) {\n",
              "      outputDiv.innerHTML = `<div class=\"error\" style=\"color:red;\">${err}</div>`;\n",
              "      throw err;\n",
              "    }\n",
              "\n",
              "    function displayChart(vegaEmbed) {\n",
              "      vegaEmbed(outputDiv, spec, embedOpt)\n",
              "        .catch(err => showError(`Javascript Error: ${err.message}<br>This usually means there's a typo in your chart specification. See the javascript console for the full traceback.`));\n",
              "    }\n",
              "\n",
              "    if(typeof define === \"function\" && define.amd) {\n",
              "      requirejs.config({paths});\n",
              "      require([\"vega-embed\"], displayChart, err => showError(`Error loading script: ${err.message}`));\n",
              "    } else if (typeof vegaEmbed === \"function\") {\n",
              "      displayChart(vegaEmbed);\n",
              "    } else {\n",
              "      loadScript(\"vega\")\n",
              "        .then(() => loadScript(\"vega-lite\"))\n",
              "        .then(() => loadScript(\"vega-embed\"))\n",
              "        .catch(showError)\n",
              "        .then(() => displayChart(vegaEmbed));\n",
              "    }\n",
              "  })({\"config\": {\"view\": {\"continuousWidth\": 400, \"continuousHeight\": 300}}, \"layer\": [{\"mark\": \"line\", \"encoding\": {\"color\": {\"type\": \"nominal\", \"field\": \"variable\", \"legend\": {\"title\": \"Variable\"}}, \"tooltip\": [{\"type\": \"nominal\", \"field\": \"variable\"}, {\"type\": \"quantitative\", \"field\": \"threshold\"}, {\"type\": \"quantitative\", \"field\": \"value\"}], \"x\": {\"type\": \"quantitative\", \"axis\": {\"title\": \"Model Threshold\"}, \"field\": \"threshold\"}, \"y\": {\"type\": \"quantitative\", \"axis\": {\"title\": \"Precision/Recall Value\"}, \"field\": \"value\", \"scale\": {\"domain\": [0, 1]}}}, \"selection\": {\"selector004\": {\"type\": \"interval\", \"bind\": \"scales\", \"encodings\": [\"x\", \"y\"]}}, \"title\": \"Precision and Recall v.s. Model Threshold\"}, {\"mark\": \"point\", \"encoding\": {\"opacity\": {\"value\": 0}, \"x\": {\"type\": \"quantitative\", \"field\": \"threshold\"}}, \"selection\": {\"selector003\": {\"type\": \"single\", \"nearest\": true, \"on\": \"mouseover\", \"fields\": [\"threshold\"], \"empty\": \"none\"}}}, {\"mark\": \"point\", \"encoding\": {\"color\": {\"type\": \"nominal\", \"field\": \"variable\", \"legend\": {\"title\": \"Variable\"}}, \"opacity\": {\"condition\": {\"value\": 1, \"selection\": \"selector003\"}, \"value\": 0}, \"tooltip\": [{\"type\": \"nominal\", \"field\": \"variable\"}, {\"type\": \"quantitative\", \"field\": \"threshold\"}, {\"type\": \"quantitative\", \"field\": \"value\"}], \"x\": {\"type\": \"quantitative\", \"axis\": {\"title\": \"Model Threshold\"}, \"field\": \"threshold\"}, \"y\": {\"type\": \"quantitative\", \"axis\": {\"title\": \"Precision/Recall Value\"}, \"field\": \"value\", \"scale\": {\"domain\": [0, 1]}}}, \"title\": \"Precision and Recall v.s. Model Threshold\"}, {\"mark\": {\"type\": \"rule\", \"color\": \"gray\"}, \"encoding\": {\"x\": {\"type\": \"quantitative\", \"field\": \"threshold\"}}, \"transform\": [{\"filter\": {\"selection\": \"selector003\"}}]}, {\"mark\": {\"type\": \"text\", \"align\": \"right\", \"dx\": -10, \"dy\": -5, \"fontWeight\": 300, \"lineBreak\": \"\\n\"}, \"encoding\": {\"color\": {\"type\": \"nominal\", \"field\": \"variable\", \"legend\": {\"title\": \"Variable\"}}, \"text\": {\"condition\": {\"type\": \"nominal\", \"field\": \"label\", \"selection\": \"selector003\"}, \"value\": \" \"}, \"tooltip\": [{\"type\": \"nominal\", \"field\": \"variable\"}, {\"type\": \"quantitative\", \"field\": \"threshold\"}, {\"type\": \"quantitative\", \"field\": \"value\"}], \"x\": {\"type\": \"quantitative\", \"axis\": {\"title\": \"Model Threshold\"}, \"field\": \"threshold\"}, \"y\": {\"type\": \"quantitative\", \"axis\": {\"title\": \"Precision/Recall Value\"}, \"field\": \"value\", \"scale\": {\"domain\": [0, 1]}}}, \"title\": \"Precision and Recall v.s. Model Threshold\"}], \"data\": {\"name\": \"data-5c7df9051528d4566a0fd25c96c2bf4e\"}, \"height\": 400, \"width\": 800, \"$schema\": \"https://vega.github.io/schema/vega-lite/v4.8.1.json\", \"datasets\": {\"data-5c7df9051528d4566a0fd25c96c2bf4e\": [{\"threshold\": 0.0, \"label\": \"threshold: 0.0\\nprecision: 0.996\\nrecall: 1.0\", \"variable\": \"recall\", \"value\": 1.0}, {\"threshold\": 0.02040816326530612, \"label\": \"threshold: 0.02\\nprecision: 0.996\\nrecall: 0.984\", \"variable\": \"recall\", \"value\": 0.9835320840431573}, {\"threshold\": 0.04081632653061224, \"label\": \"threshold: 0.041\\nprecision: 0.996\\nrecall: 0.976\", \"variable\": \"recall\", \"value\": 0.9761499148211243}, {\"threshold\": 0.061224489795918366, \"label\": \"threshold: 0.061\\nprecision: 0.996\\nrecall: 0.974\", \"variable\": \"recall\", \"value\": 0.9738784781374219}, {\"threshold\": 0.08163265306122448, \"label\": \"threshold: 0.082\\nprecision: 0.996\\nrecall: 0.972\", \"variable\": \"recall\", \"value\": 0.9721749006246451}, {\"threshold\": 0.1020408163265306, \"label\": \"threshold: 0.102\\nprecision: 0.996\\nrecall: 0.97\", \"variable\": \"recall\", \"value\": 0.9699034639409426}, {\"threshold\": 0.12244897959183673, \"label\": \"threshold: 0.122\\nprecision: 0.996\\nrecall: 0.967\", \"variable\": \"recall\", \"value\": 0.9670641680863146}, {\"threshold\": 0.14285714285714285, \"label\": \"threshold: 0.143\\nprecision: 0.996\\nrecall: 0.966\", \"variable\": \"recall\", \"value\": 0.9659284497444633}, {\"threshold\": 0.16326530612244897, \"label\": \"threshold: 0.163\\nprecision: 0.996\\nrecall: 0.964\", \"variable\": \"recall\", \"value\": 0.9636570130607609}, {\"threshold\": 0.18367346938775508, \"label\": \"threshold: 0.184\\nprecision: 0.996\\nrecall: 0.961\", \"variable\": \"recall\", \"value\": 0.9613855763770585}, {\"threshold\": 0.2040816326530612, \"label\": \"threshold: 0.204\\nprecision: 0.996\\nrecall: 0.96\", \"variable\": \"recall\", \"value\": 0.9602498580352072}, {\"threshold\": 0.22448979591836732, \"label\": \"threshold: 0.224\\nprecision: 0.996\\nrecall: 0.959\", \"variable\": \"recall\", \"value\": 0.959114139693356}, {\"threshold\": 0.24489795918367346, \"label\": \"threshold: 0.245\\nprecision: 0.996\\nrecall: 0.957\", \"variable\": \"recall\", \"value\": 0.9568427030096536}, {\"threshold\": 0.26530612244897955, \"label\": \"threshold: 0.265\\nprecision: 0.996\\nrecall: 0.956\", \"variable\": \"recall\", \"value\": 0.956274843838728}, {\"threshold\": 0.2857142857142857, \"label\": \"threshold: 0.286\\nprecision: 0.996\\nrecall: 0.956\", \"variable\": \"recall\", \"value\": 0.9557069846678024}, {\"threshold\": 0.3061224489795918, \"label\": \"threshold: 0.306\\nprecision: 0.996\\nrecall: 0.954\", \"variable\": \"recall\", \"value\": 0.9540034071550255}, {\"threshold\": 0.32653061224489793, \"label\": \"threshold: 0.327\\nprecision: 0.996\\nrecall: 0.952\", \"variable\": \"recall\", \"value\": 0.9522998296422487}, {\"threshold\": 0.3469387755102041, \"label\": \"threshold: 0.347\\nprecision: 0.996\\nrecall: 0.951\", \"variable\": \"recall\", \"value\": 0.9505962521294719}, {\"threshold\": 0.36734693877551017, \"label\": \"threshold: 0.367\\nprecision: 0.996\\nrecall: 0.949\", \"variable\": \"recall\", \"value\": 0.948892674616695}, {\"threshold\": 0.3877551020408163, \"label\": \"threshold: 0.388\\nprecision: 0.996\\nrecall: 0.948\", \"variable\": \"recall\", \"value\": 0.9483248154457694}, {\"threshold\": 0.4081632653061224, \"label\": \"threshold: 0.408\\nprecision: 0.996\\nrecall: 0.947\", \"variable\": \"recall\", \"value\": 0.9471890971039182}, {\"threshold\": 0.42857142857142855, \"label\": \"threshold: 0.429\\nprecision: 0.996\\nrecall: 0.947\", \"variable\": \"recall\", \"value\": 0.9471890971039182}, {\"threshold\": 0.44897959183673464, \"label\": \"threshold: 0.449\\nprecision: 0.996\\nrecall: 0.947\", \"variable\": \"recall\", \"value\": 0.9466212379329926}, {\"threshold\": 0.4693877551020408, \"label\": \"threshold: 0.469\\nprecision: 0.996\\nrecall: 0.946\", \"variable\": \"recall\", \"value\": 0.946053378762067}, {\"threshold\": 0.4897959183673469, \"label\": \"threshold: 0.49\\nprecision: 0.996\\nrecall: 0.945\", \"variable\": \"recall\", \"value\": 0.9454855195911414}, {\"threshold\": 0.5102040816326531, \"label\": \"threshold: 0.51\\nprecision: 0.996\\nrecall: 0.943\", \"variable\": \"recall\", \"value\": 0.9432140829074389}, {\"threshold\": 0.5306122448979591, \"label\": \"threshold: 0.531\\nprecision: 0.996\\nrecall: 0.94\", \"variable\": \"recall\", \"value\": 0.9403747870528109}, {\"threshold\": 0.5510204081632653, \"label\": \"threshold: 0.551\\nprecision: 0.996\\nrecall: 0.939\", \"variable\": \"recall\", \"value\": 0.9392390687109596}, {\"threshold\": 0.5714285714285714, \"label\": \"threshold: 0.571\\nprecision: 0.996\\nrecall: 0.939\", \"variable\": \"recall\", \"value\": 0.9392390687109596}, {\"threshold\": 0.5918367346938775, \"label\": \"threshold: 0.592\\nprecision: 0.996\\nrecall: 0.938\", \"variable\": \"recall\", \"value\": 0.9375354911981828}, {\"threshold\": 0.6122448979591836, \"label\": \"threshold: 0.612\\nprecision: 0.996\\nrecall: 0.936\", \"variable\": \"recall\", \"value\": 0.935831913685406}, {\"threshold\": 0.6326530612244897, \"label\": \"threshold: 0.633\\nprecision: 0.996\\nrecall: 0.934\", \"variable\": \"recall\", \"value\": 0.9341283361726291}, {\"threshold\": 0.6530612244897959, \"label\": \"threshold: 0.653\\nprecision: 0.996\\nrecall: 0.931\", \"variable\": \"recall\", \"value\": 0.9312890403180011}, {\"threshold\": 0.673469387755102, \"label\": \"threshold: 0.673\\nprecision: 0.996\\nrecall: 0.929\", \"variable\": \"recall\", \"value\": 0.9290176036342986}, {\"threshold\": 0.6938775510204082, \"label\": \"threshold: 0.694\\nprecision: 0.996\\nrecall: 0.928\", \"variable\": \"recall\", \"value\": 0.9284497444633731}, {\"threshold\": 0.7142857142857142, \"label\": \"threshold: 0.714\\nprecision: 0.996\\nrecall: 0.927\", \"variable\": \"recall\", \"value\": 0.9273140261215219}, {\"threshold\": 0.7346938775510203, \"label\": \"threshold: 0.735\\nprecision: 0.996\\nrecall: 0.926\", \"variable\": \"recall\", \"value\": 0.9261783077796707}, {\"threshold\": 0.7551020408163265, \"label\": \"threshold: 0.755\\nprecision: 0.996\\nrecall: 0.923\", \"variable\": \"recall\", \"value\": 0.922771152754117}, {\"threshold\": 0.7755102040816326, \"label\": \"threshold: 0.776\\nprecision: 0.996\\nrecall: 0.922\", \"variable\": \"recall\", \"value\": 0.9216354344122658}, {\"threshold\": 0.7959183673469387, \"label\": \"threshold: 0.796\\nprecision: 0.996\\nrecall: 0.919\", \"variable\": \"recall\", \"value\": 0.9193639977285634}, {\"threshold\": 0.8163265306122448, \"label\": \"threshold: 0.816\\nprecision: 0.996\\nrecall: 0.914\", \"variable\": \"recall\", \"value\": 0.9142532651902329}, {\"threshold\": 0.836734693877551, \"label\": \"threshold: 0.837\\nprecision: 0.996\\nrecall: 0.913\", \"variable\": \"recall\", \"value\": 0.9131175468483816}, {\"threshold\": 0.8571428571428571, \"label\": \"threshold: 0.857\\nprecision: 0.996\\nrecall: 0.911\", \"variable\": \"recall\", \"value\": 0.9108461101646792}, {\"threshold\": 0.8775510204081632, \"label\": \"threshold: 0.878\\nprecision: 0.996\\nrecall: 0.907\", \"variable\": \"recall\", \"value\": 0.9074389551391255}, {\"threshold\": 0.8979591836734693, \"label\": \"threshold: 0.898\\nprecision: 0.996\\nrecall: 0.905\", \"variable\": \"recall\", \"value\": 0.9051675184554231}, {\"threshold\": 0.9183673469387754, \"label\": \"threshold: 0.918\\nprecision: 0.996\\nrecall: 0.898\", \"variable\": \"recall\", \"value\": 0.8983532084043158}, {\"threshold\": 0.9387755102040816, \"label\": \"threshold: 0.939\\nprecision: 0.996\\nrecall: 0.892\", \"variable\": \"recall\", \"value\": 0.892106757524134}, {\"threshold\": 0.9591836734693877, \"label\": \"threshold: 0.959\\nprecision: 0.995\\nrecall: 0.877\", \"variable\": \"recall\", \"value\": 0.8767745599091425}, {\"threshold\": 0.9795918367346939, \"label\": \"threshold: 0.98\\nprecision: 0.995\\nrecall: 0.855\", \"variable\": \"recall\", \"value\": 0.8546280522430437}, {\"threshold\": 1.0, \"label\": \"threshold: 1.0\\nprecision: 0.958\\nrecall: 0.09\", \"variable\": \"recall\", \"value\": 0.08972174900624645}, {\"threshold\": 0.0, \"label\": \"threshold: 0.0\\nprecision: 0.996\\nrecall: 1.0\", \"variable\": \"precision\", \"value\": 0.9960407239819005}, {\"threshold\": 0.02040816326530612, \"label\": \"threshold: 0.02\\nprecision: 0.996\\nrecall: 0.984\", \"variable\": \"precision\", \"value\": 0.9959746981023577}, {\"threshold\": 0.04081632653061224, \"label\": \"threshold: 0.041\\nprecision: 0.996\\nrecall: 0.976\", \"variable\": \"precision\", \"value\": 0.9959443800695249}, {\"threshold\": 0.061224489795918366, \"label\": \"threshold: 0.061\\nprecision: 0.996\\nrecall: 0.974\", \"variable\": \"precision\", \"value\": 0.9959349593495935}, {\"threshold\": 0.08163265306122448, \"label\": \"threshold: 0.082\\nprecision: 0.996\\nrecall: 0.972\", \"variable\": \"precision\", \"value\": 0.9959278650378127}, {\"threshold\": 0.1020408163265306, \"label\": \"threshold: 0.102\\nprecision: 0.996\\nrecall: 0.97\", \"variable\": \"precision\", \"value\": 0.9959183673469387}, {\"threshold\": 0.12244897959183673, \"label\": \"threshold: 0.122\\nprecision: 0.996\\nrecall: 0.967\", \"variable\": \"precision\", \"value\": 0.995906432748538}, {\"threshold\": 0.14285714285714285, \"label\": \"threshold: 0.143\\nprecision: 0.996\\nrecall: 0.966\", \"variable\": \"precision\", \"value\": 0.9959016393442623}, {\"threshold\": 0.16326530612244897, \"label\": \"threshold: 0.163\\nprecision: 0.996\\nrecall: 0.964\", \"variable\": \"precision\", \"value\": 0.9958920187793427}, {\"threshold\": 0.18367346938775508, \"label\": \"threshold: 0.184\\nprecision: 0.996\\nrecall: 0.961\", \"variable\": \"precision\", \"value\": 0.9958823529411764}, {\"threshold\": 0.2040816326530612, \"label\": \"threshold: 0.204\\nprecision: 0.996\\nrecall: 0.96\", \"variable\": \"precision\", \"value\": 0.9958775029446407}, {\"threshold\": 0.22448979591836732, \"label\": \"threshold: 0.224\\nprecision: 0.996\\nrecall: 0.959\", \"variable\": \"precision\", \"value\": 0.995872641509434}, {\"threshold\": 0.24489795918367346, \"label\": \"threshold: 0.245\\nprecision: 0.996\\nrecall: 0.957\", \"variable\": \"precision\", \"value\": 0.9958628841607565}, {\"threshold\": 0.26530612244897955, \"label\": \"threshold: 0.265\\nprecision: 0.996\\nrecall: 0.956\", \"variable\": \"precision\", \"value\": 0.9958604376108812}, {\"threshold\": 0.2857142857142857, \"label\": \"threshold: 0.286\\nprecision: 0.996\\nrecall: 0.956\", \"variable\": \"precision\", \"value\": 0.9958579881656805}, {\"threshold\": 0.3061224489795918, \"label\": \"threshold: 0.306\\nprecision: 0.996\\nrecall: 0.954\", \"variable\": \"precision\", \"value\": 0.995850622406639}, {\"threshold\": 0.32653061224489793, \"label\": \"threshold: 0.327\\nprecision: 0.996\\nrecall: 0.952\", \"variable\": \"precision\", \"value\": 0.9958432304038005}, {\"threshold\": 0.3469387755102041, \"label\": \"threshold: 0.347\\nprecision: 0.996\\nrecall: 0.951\", \"variable\": \"precision\", \"value\": 0.9958358120166567}, {\"threshold\": 0.36734693877551017, \"label\": \"threshold: 0.367\\nprecision: 0.996\\nrecall: 0.949\", \"variable\": \"precision\", \"value\": 0.9958283671036948}, {\"threshold\": 0.3877551020408163, \"label\": \"threshold: 0.388\\nprecision: 0.996\\nrecall: 0.948\", \"variable\": \"precision\", \"value\": 0.9958258795468098}, {\"threshold\": 0.4081632653061224, \"label\": \"threshold: 0.408\\nprecision: 0.996\\nrecall: 0.947\", \"variable\": \"precision\", \"value\": 0.9958208955223881}, {\"threshold\": 0.42857142857142855, \"label\": \"threshold: 0.429\\nprecision: 0.996\\nrecall: 0.947\", \"variable\": \"precision\", \"value\": 0.9958208955223881}, {\"threshold\": 0.44897959183673464, \"label\": \"threshold: 0.449\\nprecision: 0.996\\nrecall: 0.947\", \"variable\": \"precision\", \"value\": 0.9958183990442055}, {\"threshold\": 0.4693877551020408, \"label\": \"threshold: 0.469\\nprecision: 0.996\\nrecall: 0.946\", \"variable\": \"precision\", \"value\": 0.99581589958159}, {\"threshold\": 0.4897959183673469, \"label\": \"threshold: 0.49\\nprecision: 0.996\\nrecall: 0.945\", \"variable\": \"precision\", \"value\": 0.9958133971291866}, {\"threshold\": 0.5102040816326531, \"label\": \"threshold: 0.51\\nprecision: 0.996\\nrecall: 0.943\", \"variable\": \"precision\", \"value\": 0.9958033573141487}, {\"threshold\": 0.5306122448979591, \"label\": \"threshold: 0.531\\nprecision: 0.996\\nrecall: 0.94\", \"variable\": \"precision\", \"value\": 0.9957907396271798}, {\"threshold\": 0.5510204081632653, \"label\": \"threshold: 0.551\\nprecision: 0.996\\nrecall: 0.939\", \"variable\": \"precision\", \"value\": 0.9957856712823601}, {\"threshold\": 0.5714285714285714, \"label\": \"threshold: 0.571\\nprecision: 0.996\\nrecall: 0.939\", \"variable\": \"precision\", \"value\": 0.9957856712823601}, {\"threshold\": 0.5918367346938775, \"label\": \"threshold: 0.592\\nprecision: 0.996\\nrecall: 0.938\", \"variable\": \"precision\", \"value\": 0.9957780458383595}, {\"threshold\": 0.6122448979591836, \"label\": \"threshold: 0.612\\nprecision: 0.996\\nrecall: 0.936\", \"variable\": \"precision\", \"value\": 0.9957703927492447}, {\"threshold\": 0.6326530612244897, \"label\": \"threshold: 0.633\\nprecision: 0.996\\nrecall: 0.934\", \"variable\": \"precision\", \"value\": 0.9957627118644068}, {\"threshold\": 0.6530612244897959, \"label\": \"threshold: 0.653\\nprecision: 0.996\\nrecall: 0.931\", \"variable\": \"precision\", \"value\": 0.9957498482088646}, {\"threshold\": 0.673469387755102, \"label\": \"threshold: 0.673\\nprecision: 0.996\\nrecall: 0.929\", \"variable\": \"precision\", \"value\": 0.995739500912964}, {\"threshold\": 0.6938775510204082, \"label\": \"threshold: 0.694\\nprecision: 0.996\\nrecall: 0.928\", \"variable\": \"precision\", \"value\": 0.9957369062119367}, {\"threshold\": 0.7142857142857142, \"label\": \"threshold: 0.714\\nprecision: 0.996\\nrecall: 0.927\", \"variable\": \"precision\", \"value\": 0.9957317073170732}, {\"threshold\": 0.7346938775510203, \"label\": \"threshold: 0.735\\nprecision: 0.996\\nrecall: 0.926\", \"variable\": \"precision\", \"value\": 0.9957264957264957}, {\"threshold\": 0.7551020408163265, \"label\": \"threshold: 0.755\\nprecision: 0.996\\nrecall: 0.923\", \"variable\": \"precision\", \"value\": 0.9957107843137255}, {\"threshold\": 0.7755102040816326, \"label\": \"threshold: 0.776\\nprecision: 0.996\\nrecall: 0.922\", \"variable\": \"precision\", \"value\": 0.9957055214723927}, {\"threshold\": 0.7959183673469387, \"label\": \"threshold: 0.796\\nprecision: 0.996\\nrecall: 0.919\", \"variable\": \"precision\", \"value\": 0.9956949569495694}, {\"threshold\": 0.8163265306122448, \"label\": \"threshold: 0.816\\nprecision: 0.996\\nrecall: 0.914\", \"variable\": \"precision\", \"value\": 0.9956709956709957}, {\"threshold\": 0.836734693877551, \"label\": \"threshold: 0.837\\nprecision: 0.996\\nrecall: 0.913\", \"variable\": \"precision\", \"value\": 0.9956656346749226}, {\"threshold\": 0.8571428571428571, \"label\": \"threshold: 0.857\\nprecision: 0.996\\nrecall: 0.911\", \"variable\": \"precision\", \"value\": 0.9956548727498448}, {\"threshold\": 0.8775510204081632, \"label\": \"threshold: 0.878\\nprecision: 0.996\\nrecall: 0.907\", \"variable\": \"precision\", \"value\": 0.9956386292834891}, {\"threshold\": 0.8979591836734693, \"label\": \"threshold: 0.898\\nprecision: 0.996\\nrecall: 0.905\", \"variable\": \"precision\", \"value\": 0.995627732667083}, {\"threshold\": 0.9183673469387754, \"label\": \"threshold: 0.918\\nprecision: 0.996\\nrecall: 0.898\", \"variable\": \"precision\", \"value\": 0.9955947136563876}, {\"threshold\": 0.9387755102040816, \"label\": \"threshold: 0.939\\nprecision: 0.996\\nrecall: 0.892\", \"variable\": \"precision\", \"value\": 0.9955640050697085}, {\"threshold\": 0.9591836734693877, \"label\": \"threshold: 0.959\\nprecision: 0.995\\nrecall: 0.877\", \"variable\": \"precision\", \"value\": 0.9954867827208252}, {\"threshold\": 0.9795918367346939, \"label\": \"threshold: 0.98\\nprecision: 0.995\\nrecall: 0.855\", \"variable\": \"precision\", \"value\": 0.9953703703703703}, {\"threshold\": 1.0, \"label\": \"threshold: 1.0\\nprecision: 0.958\\nrecall: 0.09\", \"variable\": \"precision\", \"value\": 0.9575757575757575}]}}, {\"mode\": \"vega-lite\"});\n",
              "</script>"
            ]
          },
          "metadata": {},
          "execution_count": 26
        }
      ]
    },
    {
      "cell_type": "code",
      "source": [
        "%%time\n",
        "\n",
        "fields = [\n",
        "    { \"field\" : \"first_name\", \"type\" : \"Name\" },\n",
        "    { \"field\" : \"surname\", \"type\" : \"Name\" },\n",
        "    { \"field\" : \"suburb\", \"type\" : \"ShortString\" },\n",
        "    { \"field\" : \"postcode\", \"type\" : \"Exact\" },\n",
        "    { \"field\" : \"state\", \"type\" : \"Exact\" },\n",
        "    { \"field\" : \"date_of_birth\", \"type\" : \"DateTime\" },\n",
        "    { \"field\" : \"soc_sec_id\", \"type\" : \"Exact\" },\n",
        "]\n",
        "\n",
        "linker2 = dedupe.RecordLink(fields)\n",
        "\n",
        "with open(TRAINING_FILE, \"r\") as fh:\n",
        "    linker2.prepare_training(records_A, records_B, training_file=fh)"
      ],
      "metadata": {
        "colab": {
          "base_uri": "https://localhost:8080/"
        },
        "id": "-KwROsRkcBiI",
        "outputId": "c499844e-603c-47da-dfdc-644c042172e3"
      },
      "execution_count": 27,
      "outputs": [
        {
          "output_type": "stream",
          "name": "stderr",
          "text": [
            "INFO:dedupe.api:reading training from file\n",
            "INFO:dedupe.training:Final predicate set:\n",
            "INFO:dedupe.training:SimplePredicate: (dayPredicate, date_of_birth)\n",
            "INFO:dedupe.training:Final predicate set:\n",
            "INFO:dedupe.training:SimplePredicate: (wholeFieldPredicate, soc_sec_id)\n",
            "INFO:dedupe.training:SimplePredicate: (dayPredicate, date_of_birth)\n",
            "INFO:dedupe.training:PartialPredicate: (firstTokenPredicate, first_name, Surname)\n"
          ]
        },
        {
          "output_type": "stream",
          "name": "stdout",
          "text": [
            "CPU times: user 35.1 s, sys: 629 ms, total: 35.7 s\n",
            "Wall time: 35.1 s\n"
          ]
        }
      ]
    },
    {
      "cell_type": "code",
      "source": [
        "dedupe.console_label(linker2)"
      ],
      "metadata": {
        "colab": {
          "base_uri": "https://localhost:8080/"
        },
        "id": "tmksVUc0cCkE",
        "outputId": "88b1cffb-7a36-4328-b60d-b46be3947379"
      },
      "execution_count": 28,
      "outputs": [
        {
          "output_type": "stream",
          "name": "stderr",
          "text": [
            "first_name : alexander\n",
            "surname : coleman\n",
            "suburb : erskine\n",
            "postcode : 3181\n",
            "state : wa\n",
            "date_of_birth : 06/27/65\n",
            "soc_sec_id : 5751582\n",
            "\n",
            "first_name : stathya\n",
            "surname : lucy\n",
            "suburb : erskine\n",
            "postcode : 5260\n",
            "state : nsw\n",
            "date_of_birth : 05/24/74\n",
            "soc_sec_id : 5726885\n",
            "\n",
            "6/10 positive, 9/10 negative\n",
            "Do these records refer to the same thing?\n",
            "(y)es / (n)o / (u)nsure / (f)inished\n"
          ]
        },
        {
          "name": "stdout",
          "output_type": "stream",
          "text": [
            "n\n"
          ]
        },
        {
          "output_type": "stream",
          "name": "stderr",
          "text": [
            "first_name : mitchell\n",
            "surname : plane\n",
            "suburb : torrumbarry\n",
            "postcode : 2705\n",
            "state : nsw\n",
            "date_of_birth : 01/23/69\n",
            "soc_sec_id : 5703316\n",
            "\n",
            "first_name : liama\n",
            "surname : hiloon\n",
            "suburb : murrumbateman\n",
            "postcode : 3178\n",
            "state : vic\n",
            "date_of_birth : 01/03/73\n",
            "soc_sec_id : 6500763\n",
            "\n",
            "6/10 positive, 10/10 negative\n",
            "Do these records refer to the same thing?\n",
            "(y)es / (n)o / (u)nsure / (f)inished / (p)revious\n"
          ]
        },
        {
          "name": "stdout",
          "output_type": "stream",
          "text": [
            "n\n"
          ]
        },
        {
          "output_type": "stream",
          "name": "stderr",
          "text": [
            "first_name : grace\n",
            "surname : tenholder\n",
            "suburb : moura\n",
            "postcode : 6101\n",
            "state : sa\n",
            "date_of_birth : 04/19/27\n",
            "soc_sec_id : 4104938\n",
            "\n",
            "first_name : graje\n",
            "surname : tenholder\n",
            "suburb : moura\n",
            "postcode : 6101\n",
            "state : sa\n",
            "date_of_birth : 04/29/27\n",
            "soc_sec_id : 4144938\n",
            "\n",
            "6/10 positive, 11/10 negative\n",
            "Do these records refer to the same thing?\n",
            "(y)es / (n)o / (u)nsure / (f)inished / (p)revious\n"
          ]
        },
        {
          "name": "stdout",
          "output_type": "stream",
          "text": [
            "y\n"
          ]
        },
        {
          "output_type": "stream",
          "name": "stderr",
          "text": [
            "first_name : eloise\n",
            "surname : povey\n",
            "suburb : lismore\n",
            "postcode : 6170\n",
            "state : nsw\n",
            "date_of_birth : 08/09/34\n",
            "soc_sec_id : 7658579\n",
            "\n",
            "first_name : eloise\n",
            "surname : povey\n",
            "suburb : lismore\n",
            "postcode : 6170\n",
            "state : nsw\n",
            "date_of_birth : 05/09/34\n",
            "soc_sec_id : 7487027\n",
            "\n",
            "7/10 positive, 11/10 negative\n",
            "Do these records refer to the same thing?\n",
            "(y)es / (n)o / (u)nsure / (f)inished / (p)revious\n"
          ]
        },
        {
          "name": "stdout",
          "output_type": "stream",
          "text": [
            "f\n"
          ]
        },
        {
          "output_type": "stream",
          "name": "stderr",
          "text": [
            "Finished labeling\n",
            "INFO:dedupe.training:Final predicate set:\n",
            "INFO:dedupe.training:SimplePredicate: (wholeFieldPredicate, postcode)\n"
          ]
        }
      ]
    },
    {
      "cell_type": "code",
      "source": [
        "%%time\n",
        "linker2.train()"
      ],
      "metadata": {
        "colab": {
          "base_uri": "https://localhost:8080/"
        },
        "id": "j_CnIjlocCiJ",
        "outputId": "bb8d8181-fb3b-4244-acc2-fb60e0c5a3b2"
      },
      "execution_count": 29,
      "outputs": [
        {
          "output_type": "stream",
          "name": "stderr",
          "text": [
            "INFO:rlr.crossvalidation:using cross validation to find optimum alpha...\n",
            "/usr/local/lib/python3.7/dist-packages/rlr/crossvalidation.py:122: RuntimeWarning: invalid value encountered in double_scalars\n",
            "  * (true_distinct + false_distinct)))\n",
            "INFO:rlr.crossvalidation:optimum alpha: 0.000010, score 0.6007630668398516\n",
            "INFO:dedupe.training:Final predicate set:\n",
            "INFO:dedupe.training:(SimplePredicate: (wholeFieldPredicate, suburb), SimplePredicate: (wholeFieldPredicate, postcode))\n",
            "INFO:dedupe.training:(SimplePredicate: (wholeFieldPredicate, postcode), PartialIndexTfidfNGramSearchPredicate: (0.4, surname, Surname), SimplePredicate: (suffixArray, first_name))\n"
          ]
        },
        {
          "output_type": "stream",
          "name": "stdout",
          "text": [
            "CPU times: user 5.01 s, sys: 841 ms, total: 5.85 s\n",
            "Wall time: 5 s\n"
          ]
        }
      ]
    },
    {
      "cell_type": "code",
      "source": [
        "candidate_pairs = [x for x in linker2.pairs(records_A, records_B)]\n",
        "print(f\"{len(candidate_pairs):,} candidate pairs generated from blocking.\")\n",
        "\n",
        "df_candidate_links = pd.DataFrame(\n",
        "    [(x[0][0], x[1][0]) for x in candidate_pairs]\n",
        ").rename(columns={0 : \"person_id_A\", 1 : \"person_id_B\"}).set_index([\"person_id_A\", \"person_id_B\"])\n",
        "\n",
        "max_candidate_pairs = df_A.shape[0]*df_B.shape[0]\n",
        "\n",
        "print(f\"{max_candidate_pairs:,} total possible pairs.\")\n",
        "\n",
        "# Calculate search space reduction.\n",
        "search_space_reduction = round(1 - len(candidate_pairs)/max_candidate_pairs, 6)\n",
        "print(f\"\\n{len(candidate_pairs):,} pairs after full blocking: {search_space_reduction}% search space reduction.\")\n",
        "\n",
        "# Calculate retained true links percentage.\n",
        "total_true_links = df_ground_truth.shape[0]\n",
        "true_links_after_blocking = pd.merge(\n",
        "    df_ground_truth,\n",
        "    df_candidate_links,\n",
        "    left_index=True,\n",
        "    right_index=True,\n",
        "    how=\"inner\"\n",
        ").shape[0]\n",
        "\n",
        "retained_true_link_percent = round((true_links_after_blocking/total_true_links) * 100, 2)\n",
        "print(f\"{retained_true_link_percent}% true links retained after blocking.\")"
      ],
      "metadata": {
        "colab": {
          "base_uri": "https://localhost:8080/"
        },
        "id": "f-ctAMEXcCgi",
        "outputId": "67b75bd6-bd86-40a8-ece1-226561fb4c77"
      },
      "execution_count": 30,
      "outputs": [
        {
          "output_type": "stream",
          "name": "stdout",
          "text": [
            "1,895 candidate pairs generated from blocking.\n",
            "10,562,500 total possible pairs.\n",
            "\n",
            "1,895 pairs after full blocking: 0.999821% search space reduction.\n",
            "62.83% true links retained after blocking.\n"
          ]
        }
      ]
    },
    {
      "cell_type": "code",
      "source": [
        "%%time\n",
        "linked_records = linker2.join(records_A, records_B, threshold=0.0, constraint=\"one-to-one\")"
      ],
      "metadata": {
        "colab": {
          "base_uri": "https://localhost:8080/"
        },
        "id": "ZMcV8696cCd2",
        "outputId": "ec9e5562-f099-4424-81f8-7c5aac622b34"
      },
      "execution_count": 31,
      "outputs": [
        {
          "output_type": "stream",
          "name": "stdout",
          "text": [
            "CPU times: user 429 ms, sys: 84.1 ms, total: 513 ms\n",
            "Wall time: 1.67 s\n"
          ]
        }
      ]
    },
    {
      "cell_type": "code",
      "source": [
        "df_predictions = pd.DataFrame(\n",
        "    [ {\"person_id_A\" : x[0][0], \"person_id_B\" : x[0][1], \"model_score\" : x[1]} for x in linked_records]\n",
        ")\n",
        "\n",
        "df_predictions = df_predictions.set_index([\"person_id_A\", \"person_id_B\"])\n",
        "\n",
        "df_predictions = pd.merge(\n",
        "    df_predictions,\n",
        "    df_ground_truth,\n",
        "    left_index=True,\n",
        "    right_index=True,\n",
        "    how=\"left\",\n",
        ")\n",
        "\n",
        "df_predictions[\"ground_truth\"].fillna(False, inplace=True)\n",
        "df_predictions"
      ],
      "metadata": {
        "colab": {
          "base_uri": "https://localhost:8080/",
          "height": 455
        },
        "id": "edIJFApecICu",
        "outputId": "8c5779dd-5881-457f-c1e5-4fd983530616"
      },
      "execution_count": 32,
      "outputs": [
        {
          "output_type": "execute_result",
          "data": {
            "text/html": [
              "<div>\n",
              "<style scoped>\n",
              "    .dataframe tbody tr th:only-of-type {\n",
              "        vertical-align: middle;\n",
              "    }\n",
              "\n",
              "    .dataframe tbody tr th {\n",
              "        vertical-align: top;\n",
              "    }\n",
              "\n",
              "    .dataframe thead th {\n",
              "        text-align: right;\n",
              "    }\n",
              "</style>\n",
              "<table border=\"1\" class=\"dataframe\">\n",
              "  <thead>\n",
              "    <tr style=\"text-align: right;\">\n",
              "      <th></th>\n",
              "      <th></th>\n",
              "      <th>model_score</th>\n",
              "      <th>ground_truth</th>\n",
              "    </tr>\n",
              "    <tr>\n",
              "      <th>person_id_A</th>\n",
              "      <th>person_id_B</th>\n",
              "      <th></th>\n",
              "      <th></th>\n",
              "    </tr>\n",
              "  </thead>\n",
              "  <tbody>\n",
              "    <tr>\n",
              "      <th>ffd668ac-2f63-4c05-a6a3-58ebcf1f4a80</th>\n",
              "      <th>3e8c4b67-3611-4a08-84c8-b082b627bb21</th>\n",
              "      <td>1.000000</td>\n",
              "      <td>True</td>\n",
              "    </tr>\n",
              "    <tr>\n",
              "      <th>ff86e492-166d-4652-bf5b-61b9eef60e51</th>\n",
              "      <th>0e4b371a-3c2b-4e2d-bae3-1e37058855b7</th>\n",
              "      <td>1.000000</td>\n",
              "      <td>True</td>\n",
              "    </tr>\n",
              "    <tr>\n",
              "      <th>ff64e7b6-7a23-45d2-abfd-df84b7dfe02a</th>\n",
              "      <th>e44731a3-6d4d-4d1e-8466-57aef723dcdc</th>\n",
              "      <td>1.000000</td>\n",
              "      <td>True</td>\n",
              "    </tr>\n",
              "    <tr>\n",
              "      <th>ff35c358-732f-40ed-a686-bd228089323a</th>\n",
              "      <th>79160577-d48f-4434-9ff1-af16a4eebf4c</th>\n",
              "      <td>1.000000</td>\n",
              "      <td>True</td>\n",
              "    </tr>\n",
              "    <tr>\n",
              "      <th>fee2a7e5-2a4e-4930-acad-4ecd7233d296</th>\n",
              "      <th>ad491112-9c0f-4364-b892-618538c9f673</th>\n",
              "      <td>1.000000</td>\n",
              "      <td>True</td>\n",
              "    </tr>\n",
              "    <tr>\n",
              "      <th>...</th>\n",
              "      <th>...</th>\n",
              "      <td>...</td>\n",
              "      <td>...</td>\n",
              "    </tr>\n",
              "    <tr>\n",
              "      <th>3e873282-5d54-497c-8147-7172bfb21b2a</th>\n",
              "      <th>73932629-9b1d-4d4e-9133-471e66d9132e</th>\n",
              "      <td>0.178749</td>\n",
              "      <td>True</td>\n",
              "    </tr>\n",
              "    <tr>\n",
              "      <th>49d16fd6-efea-4b61-80c5-800eac83547a</th>\n",
              "      <th>6a016ff5-9b27-417e-9289-0f19548f22e0</th>\n",
              "      <td>0.157257</td>\n",
              "      <td>True</td>\n",
              "    </tr>\n",
              "    <tr>\n",
              "      <th>49ce1803-3d4f-4a7a-a438-deed4453cdae</th>\n",
              "      <th>8f1d0229-d893-43a6-a04f-40dfe2c9a497</th>\n",
              "      <td>0.155047</td>\n",
              "      <td>True</td>\n",
              "    </tr>\n",
              "    <tr>\n",
              "      <th>ad1f0fdb-13bd-4136-9709-498cbc380c6d</th>\n",
              "      <th>723bbaed-aab8-4227-8451-301553df191b</th>\n",
              "      <td>0.045305</td>\n",
              "      <td>True</td>\n",
              "    </tr>\n",
              "    <tr>\n",
              "      <th>7e966575-0310-4897-9645-8b7b5ac12427</th>\n",
              "      <th>530f6f6e-b76a-456b-bf00-abc4f5652f70</th>\n",
              "      <td>0.016093</td>\n",
              "      <td>True</td>\n",
              "    </tr>\n",
              "  </tbody>\n",
              "</table>\n",
              "<p>1885 rows × 2 columns</p>\n",
              "</div>"
            ],
            "text/plain": [
              "                                                                           model_score  ground_truth\n",
              "person_id_A                          person_id_B                                                    \n",
              "ffd668ac-2f63-4c05-a6a3-58ebcf1f4a80 3e8c4b67-3611-4a08-84c8-b082b627bb21     1.000000          True\n",
              "ff86e492-166d-4652-bf5b-61b9eef60e51 0e4b371a-3c2b-4e2d-bae3-1e37058855b7     1.000000          True\n",
              "ff64e7b6-7a23-45d2-abfd-df84b7dfe02a e44731a3-6d4d-4d1e-8466-57aef723dcdc     1.000000          True\n",
              "ff35c358-732f-40ed-a686-bd228089323a 79160577-d48f-4434-9ff1-af16a4eebf4c     1.000000          True\n",
              "fee2a7e5-2a4e-4930-acad-4ecd7233d296 ad491112-9c0f-4364-b892-618538c9f673     1.000000          True\n",
              "...                                                                                ...           ...\n",
              "3e873282-5d54-497c-8147-7172bfb21b2a 73932629-9b1d-4d4e-9133-471e66d9132e     0.178749          True\n",
              "49d16fd6-efea-4b61-80c5-800eac83547a 6a016ff5-9b27-417e-9289-0f19548f22e0     0.157257          True\n",
              "49ce1803-3d4f-4a7a-a438-deed4453cdae 8f1d0229-d893-43a6-a04f-40dfe2c9a497     0.155047          True\n",
              "ad1f0fdb-13bd-4136-9709-498cbc380c6d 723bbaed-aab8-4227-8451-301553df191b     0.045305          True\n",
              "7e966575-0310-4897-9645-8b7b5ac12427 530f6f6e-b76a-456b-bf00-abc4f5652f70     0.016093          True\n",
              "\n",
              "[1885 rows x 2 columns]"
            ]
          },
          "metadata": {},
          "execution_count": 32
        }
      ]
    },
    {
      "cell_type": "code",
      "source": [
        "df_predictions[\"ground_truth\"].value_counts()"
      ],
      "metadata": {
        "colab": {
          "base_uri": "https://localhost:8080/"
        },
        "id": "SN7wh-ajcJD3",
        "outputId": "834b73ca-f0de-4056-f1c6-3a88c30d4429"
      },
      "execution_count": 33,
      "outputs": [
        {
          "output_type": "execute_result",
          "data": {
            "text/plain": [
              "True    1885\n",
              "Name: ground_truth, dtype: int64"
            ]
          },
          "metadata": {},
          "execution_count": 33
        }
      ]
    },
    {
      "cell_type": "code",
      "source": [
        "tutorial.plot_model_score_distribution(df_predictions)"
      ],
      "metadata": {
        "colab": {
          "base_uri": "https://localhost:8080/",
          "height": 485
        },
        "id": "hP6sWGG_cJ_3",
        "outputId": "1e471055-8fad-4845-fa2c-a5c9d5f40c2b"
      },
      "execution_count": 34,
      "outputs": [
        {
          "output_type": "execute_result",
          "data": {
            "text/plain": [
              "alt.Chart(...)"
            ],
            "text/html": [
              "\n",
              "<div id=\"altair-viz-4a8ad9c38f624633bd3ff7a56b46a194\"></div>\n",
              "<script type=\"text/javascript\">\n",
              "  (function(spec, embedOpt){\n",
              "    let outputDiv = document.currentScript.previousElementSibling;\n",
              "    if (outputDiv.id !== \"altair-viz-4a8ad9c38f624633bd3ff7a56b46a194\") {\n",
              "      outputDiv = document.getElementById(\"altair-viz-4a8ad9c38f624633bd3ff7a56b46a194\");\n",
              "    }\n",
              "    const paths = {\n",
              "      \"vega\": \"https://cdn.jsdelivr.net/npm//vega@5?noext\",\n",
              "      \"vega-lib\": \"https://cdn.jsdelivr.net/npm//vega-lib?noext\",\n",
              "      \"vega-lite\": \"https://cdn.jsdelivr.net/npm//vega-lite@4.8.1?noext\",\n",
              "      \"vega-embed\": \"https://cdn.jsdelivr.net/npm//vega-embed@6?noext\",\n",
              "    };\n",
              "\n",
              "    function loadScript(lib) {\n",
              "      return new Promise(function(resolve, reject) {\n",
              "        var s = document.createElement('script');\n",
              "        s.src = paths[lib];\n",
              "        s.async = true;\n",
              "        s.onload = () => resolve(paths[lib]);\n",
              "        s.onerror = () => reject(`Error loading script: ${paths[lib]}`);\n",
              "        document.getElementsByTagName(\"head\")[0].appendChild(s);\n",
              "      });\n",
              "    }\n",
              "\n",
              "    function showError(err) {\n",
              "      outputDiv.innerHTML = `<div class=\"error\" style=\"color:red;\">${err}</div>`;\n",
              "      throw err;\n",
              "    }\n",
              "\n",
              "    function displayChart(vegaEmbed) {\n",
              "      vegaEmbed(outputDiv, spec, embedOpt)\n",
              "        .catch(err => showError(`Javascript Error: ${err.message}<br>This usually means there's a typo in your chart specification. See the javascript console for the full traceback.`));\n",
              "    }\n",
              "\n",
              "    if(typeof define === \"function\" && define.amd) {\n",
              "      requirejs.config({paths});\n",
              "      require([\"vega-embed\"], displayChart, err => showError(`Error loading script: ${err.message}`));\n",
              "    } else if (typeof vegaEmbed === \"function\") {\n",
              "      displayChart(vegaEmbed);\n",
              "    } else {\n",
              "      loadScript(\"vega\")\n",
              "        .then(() => loadScript(\"vega-lite\"))\n",
              "        .then(() => loadScript(\"vega-embed\"))\n",
              "        .catch(showError)\n",
              "        .then(() => displayChart(vegaEmbed));\n",
              "    }\n",
              "  })({\"config\": {\"view\": {\"continuousWidth\": 400, \"continuousHeight\": 300}}, \"data\": {\"name\": \"data-6554d7db9c7ddbfb9a06adf15271b73f\"}, \"mark\": {\"type\": \"bar\", \"binSpacing\": 0, \"opacity\": 0.7}, \"encoding\": {\"color\": {\"type\": \"nominal\", \"field\": \"ground_truth\", \"legend\": {\"title\": \"Ground Truth Label\"}, \"scale\": {\"domain\": [\"True Link\", \"Not a Link\"], \"scheme\": \"tableau10\"}}, \"opacity\": {\"condition\": {\"value\": 0.7, \"selection\": \"selector005\"}, \"value\": 0.2}, \"tooltip\": [{\"type\": \"quantitative\", \"field\": \"model_score\", \"title\": \"Model Score\"}, {\"type\": \"nominal\", \"field\": \"ground_truth\", \"title\": \"Ground Truth\"}, {\"type\": \"quantitative\", \"field\": \"count\", \"title\": \"Count of Links\"}], \"x\": {\"type\": \"quantitative\", \"axis\": {\"tickCount\": 5, \"title\": \"Model Score (Binned)\"}, \"bin\": {\"extent\": [0, 1], \"step\": 0.01}, \"field\": \"model_score\"}, \"y\": {\"type\": \"quantitative\", \"axis\": {\"title\": \"Count of Links\"}, \"field\": \"count\", \"stack\": null}}, \"height\": 400, \"selection\": {\"selector005\": {\"type\": \"multi\", \"fields\": [\"ground_truth\"], \"bind\": \"legend\"}, \"selector006\": {\"type\": \"interval\", \"bind\": \"scales\", \"encodings\": [\"x\", \"y\"]}}, \"title\": \"Model Score Distribution\", \"width\": 800, \"$schema\": \"https://vega.github.io/schema/vega-lite/v4.8.1.json\", \"datasets\": {\"data-6554d7db9c7ddbfb9a06adf15271b73f\": [{\"model_score\": 0.02, \"ground_truth\": \"True Link\", \"count\": 1}, {\"model_score\": 0.05, \"ground_truth\": \"True Link\", \"count\": 1}, {\"model_score\": 0.16, \"ground_truth\": \"True Link\", \"count\": 2}, {\"model_score\": 0.18, \"ground_truth\": \"True Link\", \"count\": 1}, {\"model_score\": 0.48, \"ground_truth\": \"True Link\", \"count\": 1}, {\"model_score\": 0.69, \"ground_truth\": \"True Link\", \"count\": 1}, {\"model_score\": 0.76, \"ground_truth\": \"True Link\", \"count\": 1}, {\"model_score\": 0.77, \"ground_truth\": \"True Link\", \"count\": 1}, {\"model_score\": 0.82, \"ground_truth\": \"True Link\", \"count\": 1}, {\"model_score\": 0.84, \"ground_truth\": \"True Link\", \"count\": 2}, {\"model_score\": 0.85, \"ground_truth\": \"True Link\", \"count\": 1}, {\"model_score\": 0.86, \"ground_truth\": \"True Link\", \"count\": 6}, {\"model_score\": 0.88, \"ground_truth\": \"True Link\", \"count\": 3}, {\"model_score\": 0.89, \"ground_truth\": \"True Link\", \"count\": 11}, {\"model_score\": 0.9, \"ground_truth\": \"True Link\", \"count\": 1}, {\"model_score\": 0.91, \"ground_truth\": \"True Link\", \"count\": 2}, {\"model_score\": 0.92, \"ground_truth\": \"True Link\", \"count\": 3}, {\"model_score\": 0.93, \"ground_truth\": \"True Link\", \"count\": 4}, {\"model_score\": 0.94, \"ground_truth\": \"True Link\", \"count\": 13}, {\"model_score\": 0.95, \"ground_truth\": \"True Link\", \"count\": 4}, {\"model_score\": 0.96, \"ground_truth\": \"True Link\", \"count\": 11}, {\"model_score\": 0.97, \"ground_truth\": \"True Link\", \"count\": 33}, {\"model_score\": 0.98, \"ground_truth\": \"True Link\", \"count\": 10}, {\"model_score\": 0.99, \"ground_truth\": \"True Link\", \"count\": 38}, {\"model_score\": 1.0, \"ground_truth\": \"True Link\", \"count\": 1733}]}}, {\"mode\": \"vega-lite\"});\n",
              "</script>"
            ]
          },
          "metadata": {},
          "execution_count": 34
        }
      ]
    },
    {
      "cell_type": "code",
      "source": [
        "df_eval = tutorial.evaluate_linking(\n",
        "    df=df_predictions\n",
        ")\n",
        "\n",
        "tutorial.plot_precision_recall_vs_threshold(df_eval)"
      ],
      "metadata": {
        "colab": {
          "base_uri": "https://localhost:8080/",
          "height": 485
        },
        "id": "t5kQY27icK-N",
        "outputId": "e0cd80b8-66c2-43ba-d1eb-8a9132711201"
      },
      "execution_count": 35,
      "outputs": [
        {
          "output_type": "execute_result",
          "data": {
            "text/plain": [
              "alt.LayerChart(...)"
            ],
            "text/html": [
              "\n",
              "<div id=\"altair-viz-e3449022388e40f4a4c67f407a2f3f69\"></div>\n",
              "<script type=\"text/javascript\">\n",
              "  (function(spec, embedOpt){\n",
              "    let outputDiv = document.currentScript.previousElementSibling;\n",
              "    if (outputDiv.id !== \"altair-viz-e3449022388e40f4a4c67f407a2f3f69\") {\n",
              "      outputDiv = document.getElementById(\"altair-viz-e3449022388e40f4a4c67f407a2f3f69\");\n",
              "    }\n",
              "    const paths = {\n",
              "      \"vega\": \"https://cdn.jsdelivr.net/npm//vega@5?noext\",\n",
              "      \"vega-lib\": \"https://cdn.jsdelivr.net/npm//vega-lib?noext\",\n",
              "      \"vega-lite\": \"https://cdn.jsdelivr.net/npm//vega-lite@4.8.1?noext\",\n",
              "      \"vega-embed\": \"https://cdn.jsdelivr.net/npm//vega-embed@6?noext\",\n",
              "    };\n",
              "\n",
              "    function loadScript(lib) {\n",
              "      return new Promise(function(resolve, reject) {\n",
              "        var s = document.createElement('script');\n",
              "        s.src = paths[lib];\n",
              "        s.async = true;\n",
              "        s.onload = () => resolve(paths[lib]);\n",
              "        s.onerror = () => reject(`Error loading script: ${paths[lib]}`);\n",
              "        document.getElementsByTagName(\"head\")[0].appendChild(s);\n",
              "      });\n",
              "    }\n",
              "\n",
              "    function showError(err) {\n",
              "      outputDiv.innerHTML = `<div class=\"error\" style=\"color:red;\">${err}</div>`;\n",
              "      throw err;\n",
              "    }\n",
              "\n",
              "    function displayChart(vegaEmbed) {\n",
              "      vegaEmbed(outputDiv, spec, embedOpt)\n",
              "        .catch(err => showError(`Javascript Error: ${err.message}<br>This usually means there's a typo in your chart specification. See the javascript console for the full traceback.`));\n",
              "    }\n",
              "\n",
              "    if(typeof define === \"function\" && define.amd) {\n",
              "      requirejs.config({paths});\n",
              "      require([\"vega-embed\"], displayChart, err => showError(`Error loading script: ${err.message}`));\n",
              "    } else if (typeof vegaEmbed === \"function\") {\n",
              "      displayChart(vegaEmbed);\n",
              "    } else {\n",
              "      loadScript(\"vega\")\n",
              "        .then(() => loadScript(\"vega-lite\"))\n",
              "        .then(() => loadScript(\"vega-embed\"))\n",
              "        .catch(showError)\n",
              "        .then(() => displayChart(vegaEmbed));\n",
              "    }\n",
              "  })({\"config\": {\"view\": {\"continuousWidth\": 400, \"continuousHeight\": 300}}, \"layer\": [{\"mark\": \"line\", \"encoding\": {\"color\": {\"type\": \"nominal\", \"field\": \"variable\", \"legend\": {\"title\": \"Variable\"}}, \"tooltip\": [{\"type\": \"nominal\", \"field\": \"variable\"}, {\"type\": \"quantitative\", \"field\": \"threshold\"}, {\"type\": \"quantitative\", \"field\": \"value\"}], \"x\": {\"type\": \"quantitative\", \"axis\": {\"title\": \"Model Threshold\"}, \"field\": \"threshold\"}, \"y\": {\"type\": \"quantitative\", \"axis\": {\"title\": \"Precision/Recall Value\"}, \"field\": \"value\", \"scale\": {\"domain\": [0, 1]}}}, \"selection\": {\"selector008\": {\"type\": \"interval\", \"bind\": \"scales\", \"encodings\": [\"x\", \"y\"]}}, \"title\": \"Precision and Recall v.s. Model Threshold\"}, {\"mark\": \"point\", \"encoding\": {\"opacity\": {\"value\": 0}, \"x\": {\"type\": \"quantitative\", \"field\": \"threshold\"}}, \"selection\": {\"selector007\": {\"type\": \"single\", \"nearest\": true, \"on\": \"mouseover\", \"fields\": [\"threshold\"], \"empty\": \"none\"}}}, {\"mark\": \"point\", \"encoding\": {\"color\": {\"type\": \"nominal\", \"field\": \"variable\", \"legend\": {\"title\": \"Variable\"}}, \"opacity\": {\"condition\": {\"value\": 1, \"selection\": \"selector007\"}, \"value\": 0}, \"tooltip\": [{\"type\": \"nominal\", \"field\": \"variable\"}, {\"type\": \"quantitative\", \"field\": \"threshold\"}, {\"type\": \"quantitative\", \"field\": \"value\"}], \"x\": {\"type\": \"quantitative\", \"axis\": {\"title\": \"Model Threshold\"}, \"field\": \"threshold\"}, \"y\": {\"type\": \"quantitative\", \"axis\": {\"title\": \"Precision/Recall Value\"}, \"field\": \"value\", \"scale\": {\"domain\": [0, 1]}}}, \"title\": \"Precision and Recall v.s. Model Threshold\"}, {\"mark\": {\"type\": \"rule\", \"color\": \"gray\"}, \"encoding\": {\"x\": {\"type\": \"quantitative\", \"field\": \"threshold\"}}, \"transform\": [{\"filter\": {\"selection\": \"selector007\"}}]}, {\"mark\": {\"type\": \"text\", \"align\": \"right\", \"dx\": -10, \"dy\": -5, \"fontWeight\": 300, \"lineBreak\": \"\\n\"}, \"encoding\": {\"color\": {\"type\": \"nominal\", \"field\": \"variable\", \"legend\": {\"title\": \"Variable\"}}, \"text\": {\"condition\": {\"type\": \"nominal\", \"field\": \"label\", \"selection\": \"selector007\"}, \"value\": \" \"}, \"tooltip\": [{\"type\": \"nominal\", \"field\": \"variable\"}, {\"type\": \"quantitative\", \"field\": \"threshold\"}, {\"type\": \"quantitative\", \"field\": \"value\"}], \"x\": {\"type\": \"quantitative\", \"axis\": {\"title\": \"Model Threshold\"}, \"field\": \"threshold\"}, \"y\": {\"type\": \"quantitative\", \"axis\": {\"title\": \"Precision/Recall Value\"}, \"field\": \"value\", \"scale\": {\"domain\": [0, 1]}}}, \"title\": \"Precision and Recall v.s. Model Threshold\"}], \"data\": {\"name\": \"data-836f4af669c7bba35ca89ed8433e6e11\"}, \"height\": 400, \"width\": 800, \"$schema\": \"https://vega.github.io/schema/vega-lite/v4.8.1.json\", \"datasets\": {\"data-836f4af669c7bba35ca89ed8433e6e11\": [{\"threshold\": 0.0, \"label\": \"threshold: 0.0\\nprecision: 1.0\\nrecall: 1.0\", \"variable\": \"recall\", \"value\": 1.0}, {\"threshold\": 0.02040816326530612, \"label\": \"threshold: 0.02\\nprecision: 1.0\\nrecall: 0.999\", \"variable\": \"recall\", \"value\": 0.9994694960212201}, {\"threshold\": 0.04081632653061224, \"label\": \"threshold: 0.041\\nprecision: 1.0\\nrecall: 0.999\", \"variable\": \"recall\", \"value\": 0.9994694960212201}, {\"threshold\": 0.061224489795918366, \"label\": \"threshold: 0.061\\nprecision: 1.0\\nrecall: 0.999\", \"variable\": \"recall\", \"value\": 0.9989389920424403}, {\"threshold\": 0.08163265306122448, \"label\": \"threshold: 0.082\\nprecision: 1.0\\nrecall: 0.999\", \"variable\": \"recall\", \"value\": 0.9989389920424403}, {\"threshold\": 0.1020408163265306, \"label\": \"threshold: 0.102\\nprecision: 1.0\\nrecall: 0.999\", \"variable\": \"recall\", \"value\": 0.9989389920424403}, {\"threshold\": 0.12244897959183673, \"label\": \"threshold: 0.122\\nprecision: 1.0\\nrecall: 0.999\", \"variable\": \"recall\", \"value\": 0.9989389920424403}, {\"threshold\": 0.14285714285714285, \"label\": \"threshold: 0.143\\nprecision: 1.0\\nrecall: 0.999\", \"variable\": \"recall\", \"value\": 0.9989389920424403}, {\"threshold\": 0.16326530612244897, \"label\": \"threshold: 0.163\\nprecision: 1.0\\nrecall: 0.998\", \"variable\": \"recall\", \"value\": 0.9978779840848806}, {\"threshold\": 0.18367346938775508, \"label\": \"threshold: 0.184\\nprecision: 1.0\\nrecall: 0.997\", \"variable\": \"recall\", \"value\": 0.9973474801061007}, {\"threshold\": 0.2040816326530612, \"label\": \"threshold: 0.204\\nprecision: 1.0\\nrecall: 0.997\", \"variable\": \"recall\", \"value\": 0.9973474801061007}, {\"threshold\": 0.22448979591836732, \"label\": \"threshold: 0.224\\nprecision: 1.0\\nrecall: 0.997\", \"variable\": \"recall\", \"value\": 0.9973474801061007}, {\"threshold\": 0.24489795918367346, \"label\": \"threshold: 0.245\\nprecision: 1.0\\nrecall: 0.997\", \"variable\": \"recall\", \"value\": 0.9973474801061007}, {\"threshold\": 0.26530612244897955, \"label\": \"threshold: 0.265\\nprecision: 1.0\\nrecall: 0.997\", \"variable\": \"recall\", \"value\": 0.9973474801061007}, {\"threshold\": 0.2857142857142857, \"label\": \"threshold: 0.286\\nprecision: 1.0\\nrecall: 0.997\", \"variable\": \"recall\", \"value\": 0.9973474801061007}, {\"threshold\": 0.3061224489795918, \"label\": \"threshold: 0.306\\nprecision: 1.0\\nrecall: 0.997\", \"variable\": \"recall\", \"value\": 0.9973474801061007}, {\"threshold\": 0.32653061224489793, \"label\": \"threshold: 0.327\\nprecision: 1.0\\nrecall: 0.997\", \"variable\": \"recall\", \"value\": 0.9973474801061007}, {\"threshold\": 0.3469387755102041, \"label\": \"threshold: 0.347\\nprecision: 1.0\\nrecall: 0.997\", \"variable\": \"recall\", \"value\": 0.9973474801061007}, {\"threshold\": 0.36734693877551017, \"label\": \"threshold: 0.367\\nprecision: 1.0\\nrecall: 0.997\", \"variable\": \"recall\", \"value\": 0.9973474801061007}, {\"threshold\": 0.3877551020408163, \"label\": \"threshold: 0.388\\nprecision: 1.0\\nrecall: 0.997\", \"variable\": \"recall\", \"value\": 0.9973474801061007}, {\"threshold\": 0.4081632653061224, \"label\": \"threshold: 0.408\\nprecision: 1.0\\nrecall: 0.997\", \"variable\": \"recall\", \"value\": 0.9973474801061007}, {\"threshold\": 0.42857142857142855, \"label\": \"threshold: 0.429\\nprecision: 1.0\\nrecall: 0.997\", \"variable\": \"recall\", \"value\": 0.9973474801061007}, {\"threshold\": 0.44897959183673464, \"label\": \"threshold: 0.449\\nprecision: 1.0\\nrecall: 0.997\", \"variable\": \"recall\", \"value\": 0.9973474801061007}, {\"threshold\": 0.4693877551020408, \"label\": \"threshold: 0.469\\nprecision: 1.0\\nrecall: 0.997\", \"variable\": \"recall\", \"value\": 0.9973474801061007}, {\"threshold\": 0.4897959183673469, \"label\": \"threshold: 0.49\\nprecision: 1.0\\nrecall: 0.997\", \"variable\": \"recall\", \"value\": 0.996816976127321}, {\"threshold\": 0.5102040816326531, \"label\": \"threshold: 0.51\\nprecision: 1.0\\nrecall: 0.997\", \"variable\": \"recall\", \"value\": 0.996816976127321}, {\"threshold\": 0.5306122448979591, \"label\": \"threshold: 0.531\\nprecision: 1.0\\nrecall: 0.997\", \"variable\": \"recall\", \"value\": 0.996816976127321}, {\"threshold\": 0.5510204081632653, \"label\": \"threshold: 0.551\\nprecision: 1.0\\nrecall: 0.997\", \"variable\": \"recall\", \"value\": 0.996816976127321}, {\"threshold\": 0.5714285714285714, \"label\": \"threshold: 0.571\\nprecision: 1.0\\nrecall: 0.997\", \"variable\": \"recall\", \"value\": 0.996816976127321}, {\"threshold\": 0.5918367346938775, \"label\": \"threshold: 0.592\\nprecision: 1.0\\nrecall: 0.997\", \"variable\": \"recall\", \"value\": 0.996816976127321}, {\"threshold\": 0.6122448979591836, \"label\": \"threshold: 0.612\\nprecision: 1.0\\nrecall: 0.997\", \"variable\": \"recall\", \"value\": 0.996816976127321}, {\"threshold\": 0.6326530612244897, \"label\": \"threshold: 0.633\\nprecision: 1.0\\nrecall: 0.997\", \"variable\": \"recall\", \"value\": 0.996816976127321}, {\"threshold\": 0.6530612244897959, \"label\": \"threshold: 0.653\\nprecision: 1.0\\nrecall: 0.997\", \"variable\": \"recall\", \"value\": 0.996816976127321}, {\"threshold\": 0.673469387755102, \"label\": \"threshold: 0.673\\nprecision: 1.0\\nrecall: 0.997\", \"variable\": \"recall\", \"value\": 0.996816976127321}, {\"threshold\": 0.6938775510204082, \"label\": \"threshold: 0.694\\nprecision: 1.0\\nrecall: 0.996\", \"variable\": \"recall\", \"value\": 0.9962864721485412}, {\"threshold\": 0.7142857142857142, \"label\": \"threshold: 0.714\\nprecision: 1.0\\nrecall: 0.996\", \"variable\": \"recall\", \"value\": 0.9962864721485412}, {\"threshold\": 0.7346938775510203, \"label\": \"threshold: 0.735\\nprecision: 1.0\\nrecall: 0.996\", \"variable\": \"recall\", \"value\": 0.9962864721485412}, {\"threshold\": 0.7551020408163265, \"label\": \"threshold: 0.755\\nprecision: 1.0\\nrecall: 0.996\", \"variable\": \"recall\", \"value\": 0.9962864721485412}, {\"threshold\": 0.7755102040816326, \"label\": \"threshold: 0.776\\nprecision: 1.0\\nrecall: 0.995\", \"variable\": \"recall\", \"value\": 0.9952254641909815}, {\"threshold\": 0.7959183673469387, \"label\": \"threshold: 0.796\\nprecision: 1.0\\nrecall: 0.995\", \"variable\": \"recall\", \"value\": 0.9952254641909815}, {\"threshold\": 0.8163265306122448, \"label\": \"threshold: 0.816\\nprecision: 1.0\\nrecall: 0.995\", \"variable\": \"recall\", \"value\": 0.9952254641909815}, {\"threshold\": 0.836734693877551, \"label\": \"threshold: 0.837\\nprecision: 1.0\\nrecall: 0.994\", \"variable\": \"recall\", \"value\": 0.9941644562334218}, {\"threshold\": 0.8571428571428571, \"label\": \"threshold: 0.857\\nprecision: 1.0\\nrecall: 0.993\", \"variable\": \"recall\", \"value\": 0.9925729442970822}, {\"threshold\": 0.8775510204081632, \"label\": \"threshold: 0.878\\nprecision: 1.0\\nrecall: 0.989\", \"variable\": \"recall\", \"value\": 0.9893899204244032}, {\"threshold\": 0.8979591836734693, \"label\": \"threshold: 0.898\\nprecision: 1.0\\nrecall: 0.982\", \"variable\": \"recall\", \"value\": 0.9824933687002653}, {\"threshold\": 0.9183673469387754, \"label\": \"threshold: 0.918\\nprecision: 1.0\\nrecall: 0.981\", \"variable\": \"recall\", \"value\": 0.9809018567639257}, {\"threshold\": 0.9387755102040816, \"label\": \"threshold: 0.939\\nprecision: 1.0\\nrecall: 0.977\", \"variable\": \"recall\", \"value\": 0.976657824933687}, {\"threshold\": 0.9591836734693877, \"label\": \"threshold: 0.959\\nprecision: 1.0\\nrecall: 0.965\", \"variable\": \"recall\", \"value\": 0.9649867374005305}, {\"threshold\": 0.9795918367346939, \"label\": \"threshold: 0.98\\nprecision: 1.0\\nrecall: 0.943\", \"variable\": \"recall\", \"value\": 0.943236074270557}, {\"threshold\": 1.0, \"label\": \"threshold: 1.0\\nprecision: 1.0\\nrecall: 0.423\", \"variable\": \"recall\", \"value\": 0.42281167108753315}, {\"threshold\": 0.0, \"label\": \"threshold: 0.0\\nprecision: 1.0\\nrecall: 1.0\", \"variable\": \"precision\", \"value\": 1.0}, {\"threshold\": 0.02040816326530612, \"label\": \"threshold: 0.02\\nprecision: 1.0\\nrecall: 0.999\", \"variable\": \"precision\", \"value\": 1.0}, {\"threshold\": 0.04081632653061224, \"label\": \"threshold: 0.041\\nprecision: 1.0\\nrecall: 0.999\", \"variable\": \"precision\", \"value\": 1.0}, {\"threshold\": 0.061224489795918366, \"label\": \"threshold: 0.061\\nprecision: 1.0\\nrecall: 0.999\", \"variable\": \"precision\", \"value\": 1.0}, {\"threshold\": 0.08163265306122448, \"label\": \"threshold: 0.082\\nprecision: 1.0\\nrecall: 0.999\", \"variable\": \"precision\", \"value\": 1.0}, {\"threshold\": 0.1020408163265306, \"label\": \"threshold: 0.102\\nprecision: 1.0\\nrecall: 0.999\", \"variable\": \"precision\", \"value\": 1.0}, {\"threshold\": 0.12244897959183673, \"label\": \"threshold: 0.122\\nprecision: 1.0\\nrecall: 0.999\", \"variable\": \"precision\", \"value\": 1.0}, {\"threshold\": 0.14285714285714285, \"label\": \"threshold: 0.143\\nprecision: 1.0\\nrecall: 0.999\", \"variable\": \"precision\", \"value\": 1.0}, {\"threshold\": 0.16326530612244897, \"label\": \"threshold: 0.163\\nprecision: 1.0\\nrecall: 0.998\", \"variable\": \"precision\", \"value\": 1.0}, {\"threshold\": 0.18367346938775508, \"label\": \"threshold: 0.184\\nprecision: 1.0\\nrecall: 0.997\", \"variable\": \"precision\", \"value\": 1.0}, {\"threshold\": 0.2040816326530612, \"label\": \"threshold: 0.204\\nprecision: 1.0\\nrecall: 0.997\", \"variable\": \"precision\", \"value\": 1.0}, {\"threshold\": 0.22448979591836732, \"label\": \"threshold: 0.224\\nprecision: 1.0\\nrecall: 0.997\", \"variable\": \"precision\", \"value\": 1.0}, {\"threshold\": 0.24489795918367346, \"label\": \"threshold: 0.245\\nprecision: 1.0\\nrecall: 0.997\", \"variable\": \"precision\", \"value\": 1.0}, {\"threshold\": 0.26530612244897955, \"label\": \"threshold: 0.265\\nprecision: 1.0\\nrecall: 0.997\", \"variable\": \"precision\", \"value\": 1.0}, {\"threshold\": 0.2857142857142857, \"label\": \"threshold: 0.286\\nprecision: 1.0\\nrecall: 0.997\", \"variable\": \"precision\", \"value\": 1.0}, {\"threshold\": 0.3061224489795918, \"label\": \"threshold: 0.306\\nprecision: 1.0\\nrecall: 0.997\", \"variable\": \"precision\", \"value\": 1.0}, {\"threshold\": 0.32653061224489793, \"label\": \"threshold: 0.327\\nprecision: 1.0\\nrecall: 0.997\", \"variable\": \"precision\", \"value\": 1.0}, {\"threshold\": 0.3469387755102041, \"label\": \"threshold: 0.347\\nprecision: 1.0\\nrecall: 0.997\", \"variable\": \"precision\", \"value\": 1.0}, {\"threshold\": 0.36734693877551017, \"label\": \"threshold: 0.367\\nprecision: 1.0\\nrecall: 0.997\", \"variable\": \"precision\", \"value\": 1.0}, {\"threshold\": 0.3877551020408163, \"label\": \"threshold: 0.388\\nprecision: 1.0\\nrecall: 0.997\", \"variable\": \"precision\", \"value\": 1.0}, {\"threshold\": 0.4081632653061224, \"label\": \"threshold: 0.408\\nprecision: 1.0\\nrecall: 0.997\", \"variable\": \"precision\", \"value\": 1.0}, {\"threshold\": 0.42857142857142855, \"label\": \"threshold: 0.429\\nprecision: 1.0\\nrecall: 0.997\", \"variable\": \"precision\", \"value\": 1.0}, {\"threshold\": 0.44897959183673464, \"label\": \"threshold: 0.449\\nprecision: 1.0\\nrecall: 0.997\", \"variable\": \"precision\", \"value\": 1.0}, {\"threshold\": 0.4693877551020408, \"label\": \"threshold: 0.469\\nprecision: 1.0\\nrecall: 0.997\", \"variable\": \"precision\", \"value\": 1.0}, {\"threshold\": 0.4897959183673469, \"label\": \"threshold: 0.49\\nprecision: 1.0\\nrecall: 0.997\", \"variable\": \"precision\", \"value\": 1.0}, {\"threshold\": 0.5102040816326531, \"label\": \"threshold: 0.51\\nprecision: 1.0\\nrecall: 0.997\", \"variable\": \"precision\", \"value\": 1.0}, {\"threshold\": 0.5306122448979591, \"label\": \"threshold: 0.531\\nprecision: 1.0\\nrecall: 0.997\", \"variable\": \"precision\", \"value\": 1.0}, {\"threshold\": 0.5510204081632653, \"label\": \"threshold: 0.551\\nprecision: 1.0\\nrecall: 0.997\", \"variable\": \"precision\", \"value\": 1.0}, {\"threshold\": 0.5714285714285714, \"label\": \"threshold: 0.571\\nprecision: 1.0\\nrecall: 0.997\", \"variable\": \"precision\", \"value\": 1.0}, {\"threshold\": 0.5918367346938775, \"label\": \"threshold: 0.592\\nprecision: 1.0\\nrecall: 0.997\", \"variable\": \"precision\", \"value\": 1.0}, {\"threshold\": 0.6122448979591836, \"label\": \"threshold: 0.612\\nprecision: 1.0\\nrecall: 0.997\", \"variable\": \"precision\", \"value\": 1.0}, {\"threshold\": 0.6326530612244897, \"label\": \"threshold: 0.633\\nprecision: 1.0\\nrecall: 0.997\", \"variable\": \"precision\", \"value\": 1.0}, {\"threshold\": 0.6530612244897959, \"label\": \"threshold: 0.653\\nprecision: 1.0\\nrecall: 0.997\", \"variable\": \"precision\", \"value\": 1.0}, {\"threshold\": 0.673469387755102, \"label\": \"threshold: 0.673\\nprecision: 1.0\\nrecall: 0.997\", \"variable\": \"precision\", \"value\": 1.0}, {\"threshold\": 0.6938775510204082, \"label\": \"threshold: 0.694\\nprecision: 1.0\\nrecall: 0.996\", \"variable\": \"precision\", \"value\": 1.0}, {\"threshold\": 0.7142857142857142, \"label\": \"threshold: 0.714\\nprecision: 1.0\\nrecall: 0.996\", \"variable\": \"precision\", \"value\": 1.0}, {\"threshold\": 0.7346938775510203, \"label\": \"threshold: 0.735\\nprecision: 1.0\\nrecall: 0.996\", \"variable\": \"precision\", \"value\": 1.0}, {\"threshold\": 0.7551020408163265, \"label\": \"threshold: 0.755\\nprecision: 1.0\\nrecall: 0.996\", \"variable\": \"precision\", \"value\": 1.0}, {\"threshold\": 0.7755102040816326, \"label\": \"threshold: 0.776\\nprecision: 1.0\\nrecall: 0.995\", \"variable\": \"precision\", \"value\": 1.0}, {\"threshold\": 0.7959183673469387, \"label\": \"threshold: 0.796\\nprecision: 1.0\\nrecall: 0.995\", \"variable\": \"precision\", \"value\": 1.0}, {\"threshold\": 0.8163265306122448, \"label\": \"threshold: 0.816\\nprecision: 1.0\\nrecall: 0.995\", \"variable\": \"precision\", \"value\": 1.0}, {\"threshold\": 0.836734693877551, \"label\": \"threshold: 0.837\\nprecision: 1.0\\nrecall: 0.994\", \"variable\": \"precision\", \"value\": 1.0}, {\"threshold\": 0.8571428571428571, \"label\": \"threshold: 0.857\\nprecision: 1.0\\nrecall: 0.993\", \"variable\": \"precision\", \"value\": 1.0}, {\"threshold\": 0.8775510204081632, \"label\": \"threshold: 0.878\\nprecision: 1.0\\nrecall: 0.989\", \"variable\": \"precision\", \"value\": 1.0}, {\"threshold\": 0.8979591836734693, \"label\": \"threshold: 0.898\\nprecision: 1.0\\nrecall: 0.982\", \"variable\": \"precision\", \"value\": 1.0}, {\"threshold\": 0.9183673469387754, \"label\": \"threshold: 0.918\\nprecision: 1.0\\nrecall: 0.981\", \"variable\": \"precision\", \"value\": 1.0}, {\"threshold\": 0.9387755102040816, \"label\": \"threshold: 0.939\\nprecision: 1.0\\nrecall: 0.977\", \"variable\": \"precision\", \"value\": 1.0}, {\"threshold\": 0.9591836734693877, \"label\": \"threshold: 0.959\\nprecision: 1.0\\nrecall: 0.965\", \"variable\": \"precision\", \"value\": 1.0}, {\"threshold\": 0.9795918367346939, \"label\": \"threshold: 0.98\\nprecision: 1.0\\nrecall: 0.943\", \"variable\": \"precision\", \"value\": 1.0}, {\"threshold\": 1.0, \"label\": \"threshold: 1.0\\nprecision: 1.0\\nrecall: 0.423\", \"variable\": \"precision\", \"value\": 1.0}]}}, {\"mode\": \"vega-lite\"});\n",
              "</script>"
            ]
          },
          "metadata": {},
          "execution_count": 35
        }
      ]
    }
  ]
}